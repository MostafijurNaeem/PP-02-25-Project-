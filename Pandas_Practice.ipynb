{
  "nbformat": 4,
  "nbformat_minor": 0,
  "metadata": {
    "colab": {
      "provenance": [],
      "authorship_tag": "ABX9TyOz6mUcjSHWK2xG28T+ZoqK",
      "include_colab_link": true
    },
    "kernelspec": {
      "name": "python3",
      "display_name": "Python 3"
    },
    "language_info": {
      "name": "python"
    }
  },
  "cells": [
    {
      "cell_type": "markdown",
      "metadata": {
        "id": "view-in-github",
        "colab_type": "text"
      },
      "source": [
        "<a href=\"https://colab.research.google.com/github/MostafijurNaeem/Python/blob/main/Pandas_Practice.ipynb\" target=\"_parent\"><img src=\"https://colab.research.google.com/assets/colab-badge.svg\" alt=\"Open In Colab\"/></a>"
      ]
    },
    {
      "cell_type": "code",
      "execution_count": null,
      "metadata": {
        "id": "54LbAK1Z5bvC"
      },
      "outputs": [],
      "source": [
        "import pandas as pd"
      ]
    },
    {
      "cell_type": "code",
      "source": [
        "# Creating a DataFrame from a dictionary\n",
        "data = {\"Name\": [\"Alice\", \"Bob\", \"Charlie\"], \"Age\": [25, 30, 35], \"City\": [\"NY\", \"LA\", \"CHI\"]}\n",
        "df = pd.DataFrame(data)\n",
        "print(\"DataFrame:\\n\", df)\n",
        "\n",
        "# Creating a DataFrame from a list of lists\n",
        "data = [[\"Alice\", 25, \"NY\"], [\"Bob\", 30, \"LA\"], [\"Charlie\", 35, \"CHI\"]]\n",
        "df = pd.DataFrame(data, columns=[\"Name\", \"Age\", \"City\"])\n",
        "print(\"\\nDataFrame from List:\\n\", df)\n",
        "\n",
        "# Check the data types\n",
        "print(\"\\nData Types:\\n\", df.dtypes)"
      ],
      "metadata": {
        "colab": {
          "base_uri": "https://localhost:8080/"
        },
        "id": "n9-Q82KK5gpA",
        "outputId": "bd11e65f-bb73-41ab-a8d9-dd685e8a340e"
      },
      "execution_count": null,
      "outputs": [
        {
          "output_type": "stream",
          "name": "stdout",
          "text": [
            "DataFrame:\n",
            "       Name  Age City\n",
            "0    Alice   25   NY\n",
            "1      Bob   30   LA\n",
            "2  Charlie   35  CHI\n",
            "\n",
            "DataFrame from List:\n",
            "       Name  Age City\n",
            "0    Alice   25   NY\n",
            "1      Bob   30   LA\n",
            "2  Charlie   35  CHI\n",
            "\n",
            "Data Types:\n",
            " Name    object\n",
            "Age      int64\n",
            "City    object\n",
            "dtype: object\n"
          ]
        }
      ]
    },
    {
      "cell_type": "code",
      "source": [
        "# Adding a new column\n",
        "df[\"Salary\"] = [50000, 60000, 70000]\n",
        "print(\"After Adding Column:\\n\", df)\n",
        "\n",
        "# Renaming a column\n",
        "df.rename(columns={\"Salary\": \"Income\"}, inplace=True)\n",
        "print(\"\\nAfter Renaming Column:\\n\", df)\n",
        "\n",
        "# Dropping a row\n",
        "df_dropped = df.drop(index=1)  # Drop row with index 1\n",
        "print(\"\\nAfter Dropping Row:\\n\", df_dropped)\n",
        "\n",
        "# Resetting the index\n",
        "df_reset = df_dropped.reset_index(drop=True)\n",
        "print(\"\\nAfter Resetting Index:\\n\", df_reset)"
      ],
      "metadata": {
        "colab": {
          "base_uri": "https://localhost:8080/"
        },
        "id": "MkgMq5VT5gmI",
        "outputId": "1eeb1eb8-2e00-45fb-d6da-7b7e566d64e7"
      },
      "execution_count": null,
      "outputs": [
        {
          "output_type": "stream",
          "name": "stdout",
          "text": [
            "After Adding Column:\n",
            "       Name  Age City  Salary\n",
            "0    Alice   25   NY   50000\n",
            "1      Bob   30   LA   60000\n",
            "2  Charlie   35  CHI   70000\n",
            "\n",
            "After Renaming Column:\n",
            "       Name  Age City  Income\n",
            "0    Alice   25   NY   50000\n",
            "1      Bob   30   LA   60000\n",
            "2  Charlie   35  CHI   70000\n",
            "\n",
            "After Dropping Row:\n",
            "       Name  Age City  Income\n",
            "0    Alice   25   NY   50000\n",
            "2  Charlie   35  CHI   70000\n",
            "\n",
            "After Resetting Index:\n",
            "       Name  Age City  Income\n",
            "0    Alice   25   NY   50000\n",
            "1  Charlie   35  CHI   70000\n"
          ]
        }
      ]
    },
    {
      "cell_type": "code",
      "source": [
        "# Selecting multiple rows\n",
        "print(\"\\nSelecting Rows by Index:\\n\", df.iloc[:2])  # First two rows\n",
        "\n",
        "# Selecting rows with labels\n",
        "print(\"\\nSelecting Rows by Label:\\n\", df.loc[0:1])  # Rows with labels 0 to 1\n",
        "\n",
        "# Selecting rows and columns\n",
        "print(\"\\nSelecting Subset (Rows and Columns):\\n\", df.loc[0:1, [\"Name\", \"Age\"]])"
      ],
      "metadata": {
        "colab": {
          "base_uri": "https://localhost:8080/"
        },
        "id": "szTLAaO_5gjQ",
        "outputId": "b3953530-368b-46ce-accb-26a0bd07645b"
      },
      "execution_count": null,
      "outputs": [
        {
          "output_type": "stream",
          "name": "stdout",
          "text": [
            "\n",
            "Selecting Rows by Index:\n",
            "     Name  Age City  Income\n",
            "0  Alice   25   NY   50000\n",
            "1    Bob   30   LA   60000\n",
            "\n",
            "Selecting Rows by Label:\n",
            "     Name  Age City  Income\n",
            "0  Alice   25   NY   50000\n",
            "1    Bob   30   LA   60000\n",
            "\n",
            "Selecting Subset (Rows and Columns):\n",
            "     Name  Age\n",
            "0  Alice   25\n",
            "1    Bob   30\n"
          ]
        }
      ]
    },
    {
      "cell_type": "code",
      "source": [
        "# Filter rows where Age > 25\n",
        "filtered = df[df[\"Age\"] > 25]\n",
        "print(\"Filtered Rows:\\n\", filtered)\n",
        "\n",
        "# Multiple conditions\n",
        "filtered = df[(df[\"Age\"] > 25) & (df[\"City\"] == \"LA\")]\n",
        "print(\"\\nFiltered Rows with Multiple Conditions:\\n\", filtered)"
      ],
      "metadata": {
        "colab": {
          "base_uri": "https://localhost:8080/"
        },
        "id": "FvBnHdhw5gff",
        "outputId": "62232417-76e4-4d15-c044-834f26c7111a"
      },
      "execution_count": null,
      "outputs": [
        {
          "output_type": "stream",
          "name": "stdout",
          "text": [
            "Filtered Rows:\n",
            "       Name  Age City  Income\n",
            "1      Bob   30   LA   60000\n",
            "2  Charlie   35  CHI   70000\n",
            "\n",
            "Filtered Rows with Multiple Conditions:\n",
            "   Name  Age City  Income\n",
            "1  Bob   30   LA   60000\n"
          ]
        }
      ]
    },
    {
      "cell_type": "code",
      "source": [
        "# Handling missing data\n",
        "data = {\"Name\": [\"Alice\", None, \"Charlie\"], \"Age\": [25, 30, None]}\n",
        "df = pd.DataFrame(data)\n",
        "\n",
        "# Identify missing values\n",
        "print(\"Missing Data:\\n\", df.isnull().count())\n",
        "\n",
        "# Fill missing values\n",
        "df_filled = df.fillna({\"Name\": \"Unknown\", \"Age\": df[\"Age\"].mean()})\n",
        "print(\"\\nAfter Filling Missing Data:\\n\", df_filled)\n",
        "\n",
        "# Drop rows with missing values\n",
        "df_dropped = df.dropna()\n",
        "print(\"\\nAfter Dropping Missing Values:\\n\", df_dropped)"
      ],
      "metadata": {
        "colab": {
          "base_uri": "https://localhost:8080/"
        },
        "id": "1q63OnVz5gco",
        "outputId": "03a69ca1-73e4-44ca-87bb-4b034dd88c44"
      },
      "execution_count": null,
      "outputs": [
        {
          "output_type": "stream",
          "name": "stdout",
          "text": [
            "Missing Data:\n",
            " Name    3\n",
            "Age     3\n",
            "dtype: int64\n",
            "\n",
            "After Filling Missing Data:\n",
            "       Name   Age\n",
            "0    Alice  25.0\n",
            "1  Unknown  30.0\n",
            "2  Charlie  27.5\n",
            "\n",
            "After Dropping Missing Values:\n",
            "     Name   Age\n",
            "0  Alice  25.0\n"
          ]
        }
      ]
    },
    {
      "cell_type": "code",
      "source": [
        "# Save DataFrame to CSV\n",
        "df.to_csv(\"example.csv\", index=False)\n",
        "print(\"\\nDataFrame Saved to 'example.csv'\")\n",
        "\n",
        "# Load CSV\n",
        "df_loaded = pd.read_csv(\"example.csv\")\n",
        "print(\"\\nLoaded DataFrame:\\n\", df_loaded)"
      ],
      "metadata": {
        "colab": {
          "base_uri": "https://localhost:8080/"
        },
        "id": "O3CgJOfx5gZg",
        "outputId": "2f3582a2-ff3e-42c3-b530-279ee002d984"
      },
      "execution_count": null,
      "outputs": [
        {
          "output_type": "stream",
          "name": "stdout",
          "text": [
            "\n",
            "DataFrame Saved to 'example.csv'\n",
            "\n",
            "Loaded DataFrame:\n",
            "       Name   Age\n",
            "0    Alice  25.0\n",
            "1      NaN  30.0\n",
            "2  Charlie   NaN\n"
          ]
        }
      ]
    },
    {
      "cell_type": "code",
      "source": [],
      "metadata": {
        "id": "U-XZDLwe5gTw"
      },
      "execution_count": null,
      "outputs": []
    },
    {
      "cell_type": "code",
      "source": [],
      "metadata": {
        "id": "iqovWcRB5gQw"
      },
      "execution_count": null,
      "outputs": []
    },
    {
      "cell_type": "code",
      "source": [],
      "metadata": {
        "id": "1BWp4ipu5gNw"
      },
      "execution_count": null,
      "outputs": []
    },
    {
      "cell_type": "code",
      "source": [],
      "metadata": {
        "id": "KzbOVcLq5gLA"
      },
      "execution_count": null,
      "outputs": []
    },
    {
      "cell_type": "code",
      "source": [],
      "metadata": {
        "id": "34rQmFLf5gIA"
      },
      "execution_count": null,
      "outputs": []
    }
  ]
}