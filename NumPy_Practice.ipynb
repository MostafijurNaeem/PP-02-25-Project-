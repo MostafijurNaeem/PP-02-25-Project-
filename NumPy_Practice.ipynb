{
  "nbformat": 4,
  "nbformat_minor": 0,
  "metadata": {
    "colab": {
      "provenance": [],
      "authorship_tag": "ABX9TyPmNt9zSDtLVUs36UXMtfTq",
      "include_colab_link": true
    },
    "kernelspec": {
      "name": "python3",
      "display_name": "Python 3"
    },
    "language_info": {
      "name": "python"
    }
  },
  "cells": [
    {
      "cell_type": "markdown",
      "metadata": {
        "id": "view-in-github",
        "colab_type": "text"
      },
      "source": [
        "<a href=\"https://colab.research.google.com/github/MostafijurNaeem/Python/blob/main/NumPy_Practice.ipynb\" target=\"_parent\"><img src=\"https://colab.research.google.com/assets/colab-badge.svg\" alt=\"Open In Colab\"/></a>"
      ]
    },
    {
      "cell_type": "code",
      "execution_count": null,
      "metadata": {
        "colab": {
          "base_uri": "https://localhost:8080/"
        },
        "id": "E8UNhGzsvtgD",
        "outputId": "c23732bf-800c-4439-8178-d95681b88305"
      },
      "outputs": [
        {
          "output_type": "stream",
          "name": "stdout",
          "text": [
            "1D Array: [1 2 3]\n",
            "2D Array:\n",
            " [[[1 2]\n",
            "  [3 4]]\n",
            "\n",
            " [[4 5]\n",
            "  [5 6]]]\n"
          ]
        }
      ],
      "source": [
        "import numpy as np\n",
        "\n",
        "# Creating a 1D array\n",
        "arr1 = np.array([1, 2, 3])\n",
        "print(\"1D Array:\", arr1)\n",
        "\n",
        "# Creating a 2D array\n",
        "arr2 = np.array([[[1, 2], [3, 4]], [[4, 5], [5, 6]]])\n",
        "print(\"2D Array:\\n\", arr2)"
      ]
    },
    {
      "cell_type": "code",
      "source": [
        "# Creating an ndarray\n",
        "arr = np.array([[[1,2, 3], [2,3, 4]], [[3,4, 5], [4,5, 6]]])\n",
        "print(\"Array:\\n\", arr)\n",
        "\n",
        "# Properties of ndarray\n",
        "print(\"Number of Dimensions:\", arr.ndim)\n",
        "print(\"Shape of Array:\", arr.shape)\n",
        "print(\"Data Type:\", arr.dtype)\n"
      ],
      "metadata": {
        "colab": {
          "base_uri": "https://localhost:8080/"
        },
        "id": "7CziC5MO4bVh",
        "outputId": "521f46fe-fdd7-43b3-fe9b-446b4f8cb17b"
      },
      "execution_count": null,
      "outputs": [
        {
          "output_type": "stream",
          "name": "stdout",
          "text": [
            "Array:\n",
            " [[[1 2 3]\n",
            "  [2 3 4]]\n",
            "\n",
            " [[3 4 5]\n",
            "  [4 5 6]]]\n",
            "Number of Dimensions: 3\n",
            "Shape of Array: (2, 2, 3)\n",
            "Data Type: int64\n"
          ]
        }
      ]
    },
    {
      "cell_type": "code",
      "source": [
        "# Array with default integer dtype\n",
        "arr = np.array([1, 2, 3])\n",
        "print(\"Default dtype:\", arr.dtype)\n",
        "\n",
        "# Array with custom dtype\n",
        "arr_float = np.array([1, 2, 3], dtype=\"float32\")\n",
        "print(\"Custom dtype:\", arr_float.dtype)\n",
        "\n",
        "# Complex dtype\n",
        "arr_complex = np.array([1 + 2j, 3 + 4j])\n",
        "print(\"Complex dtype:\", arr_complex.dtype)"
      ],
      "metadata": {
        "colab": {
          "base_uri": "https://localhost:8080/"
        },
        "id": "F8nLiFFj4bR_",
        "outputId": "92e7da42-c879-403c-f9bd-3d040b4bc1c8"
      },
      "execution_count": null,
      "outputs": [
        {
          "output_type": "stream",
          "name": "stdout",
          "text": [
            "Default dtype: int64\n",
            "Custom dtype: float32\n",
            "Complex dtype: complex128\n"
          ]
        }
      ]
    },
    {
      "cell_type": "code",
      "source": [
        "arr = np.array([1, 2, 3, 4])\n",
        "arr2 = np.array([5, 6, 7, 8])\n",
        "\n",
        "# Scaler operations\n",
        "print(\"Array + 10:\", arr + 10)\n",
        "print(\"Array * 2:\", arr * 2)\n",
        "\n",
        "# Mathematical operations\n",
        "print(\"Sum:\", arr.sum())\n",
        "print(\"Mean:\", arr.mean())\n",
        "print(\"Max:\", arr.max())\n",
        "\n",
        "# Element-wise operations\n",
        "print(\"Addition:\", arr + arr2)\n",
        "print(\"Multiplication:\", arr * arr2)"
      ],
      "metadata": {
        "colab": {
          "base_uri": "https://localhost:8080/"
        },
        "id": "sPivCwrw4bPI",
        "outputId": "2545db73-e021-46a2-c78e-ccc5954f3000"
      },
      "execution_count": null,
      "outputs": [
        {
          "output_type": "stream",
          "name": "stdout",
          "text": [
            "Array + 10: [11 12 13 14]\n",
            "Array * 2: [2 4 6 8]\n",
            "Sum: 10\n",
            "Mean: 2.5\n",
            "Max: 4\n",
            "Addition: [ 6  8 10 12]\n",
            "Multiplication: [ 5 12 21 32]\n"
          ]
        }
      ]
    },
    {
      "cell_type": "code",
      "source": [
        "arr = np.array([10, 20, 30, 40, 50])\n",
        "print(\"Original Array:\", arr)\n",
        "\n",
        "# Accessing elements\n",
        "print(\"First Element:\", arr[0])\n",
        "print(\"Last Element:\", arr[-1])\n",
        "\n",
        "# Slicing\n",
        "print(\"First 3 Elements:\", arr[1:3])\n",
        "print(\"Last 2 Elements:\", arr[-2:])"
      ],
      "metadata": {
        "colab": {
          "base_uri": "https://localhost:8080/"
        },
        "id": "WzNyG3gg4bMJ",
        "outputId": "a19bff73-2b1d-431a-dcaa-465d686636bf"
      },
      "execution_count": null,
      "outputs": [
        {
          "output_type": "stream",
          "name": "stdout",
          "text": [
            "Original Array: [10 20 30 40 50]\n",
            "First Element: 10\n",
            "Last Element: 50\n",
            "First 3 Elements: [20 30]\n",
            "Last 2 Elements: [40 50]\n"
          ]
        }
      ]
    },
    {
      "cell_type": "code",
      "source": [
        "arr = np.array([[10, 20],\n",
        "                [30, 40],\n",
        "                [50, 60]])\n",
        "\n",
        "print(arr.ndim)\n",
        "print(arr.shape)\n",
        "\n",
        "print(\"Specific Elements: \", arr[-1])\n",
        "print(\"Boolean Masking:\", arr[arr > 20])"
      ],
      "metadata": {
        "colab": {
          "base_uri": "https://localhost:8080/"
        },
        "id": "1vixlzzb4bJI",
        "outputId": "be6c39e8-4627-4233-92d1-5d18dce1690e"
      },
      "execution_count": null,
      "outputs": [
        {
          "output_type": "stream",
          "name": "stdout",
          "text": [
            "2\n",
            "(3, 2)\n",
            "Specific Elements:  [50 60]\n",
            "Boolean Masking: [30 40 50 60]\n"
          ]
        }
      ]
    },
    {
      "cell_type": "code",
      "source": [
        "nums = np.arange(1, 11)\n",
        "\n",
        "mult_nums = nums * 3\n",
        "\n",
        "print(mult_nums.mean())\n",
        "print(mult_nums.max())"
      ],
      "metadata": {
        "colab": {
          "base_uri": "https://localhost:8080/"
        },
        "id": "dndrwPfI4bFg",
        "outputId": "46a428bb-e1c9-44af-b084-2114e6c60f59"
      },
      "execution_count": null,
      "outputs": [
        {
          "output_type": "stream",
          "name": "stdout",
          "text": [
            "16.5\n",
            "30\n"
          ]
        }
      ]
    },
    {
      "cell_type": "code",
      "source": [
        "arr = np.array([[1, 2, 3], [4, 5, 6]])\n",
        "\n",
        "# Row-wise iteration\n",
        "for row in arr:\n",
        "    print(\"Row:\", row)\n",
        "\n",
        "# Element-wise iteration\n",
        "for element in np.nditer(arr):\n",
        "    print(\"Element:\", element)"
      ],
      "metadata": {
        "colab": {
          "base_uri": "https://localhost:8080/"
        },
        "id": "akPq8eM94ljR",
        "outputId": "d59f7434-58b1-48da-dd94-36b7adcd227d"
      },
      "execution_count": null,
      "outputs": [
        {
          "output_type": "stream",
          "name": "stdout",
          "text": [
            "Row: [1 2 3]\n",
            "Row: [4 5 6]\n",
            "Element: 1\n",
            "Element: 2\n",
            "Element: 3\n",
            "Element: 4\n",
            "Element: 5\n",
            "Element: 6\n"
          ]
        }
      ]
    },
    {
      "cell_type": "code",
      "source": [
        "arr1 = np.array([[1, 2], [3, 4]], dtype=\"float64\")\n",
        "arr2 = np.array([[5, 6], [7, 8]], dtype=\"float64\")\n",
        "\n",
        "print(\"Arr 1\\n\",arr1)\n",
        "print(\"Arr 2\\n\",arr2)\n",
        "\n",
        "print(\"Dot\\n\",np.dot(arr1, arr2))\n",
        "\n",
        "print(\"Transpose\\n\",arr1.T)\n",
        "\n",
        "round(np.linalg.det(arr1), 3)"
      ],
      "metadata": {
        "colab": {
          "base_uri": "https://localhost:8080/"
        },
        "id": "Q2ZPhens4oWY",
        "outputId": "7abff8e4-5e62-4ec4-b83f-dbf3a68957f7"
      },
      "execution_count": null,
      "outputs": [
        {
          "output_type": "stream",
          "name": "stdout",
          "text": [
            "Arr 1\n",
            " [[1. 2.]\n",
            " [3. 4.]]\n",
            "Arr 2\n",
            " [[5. 6.]\n",
            " [7. 8.]]\n",
            "Dot\n",
            " [[19. 22.]\n",
            " [43. 50.]]\n",
            "Transpose\n",
            " [[1. 3.]\n",
            " [2. 4.]]\n"
          ]
        },
        {
          "output_type": "execute_result",
          "data": {
            "text/plain": [
              "-2.0"
            ]
          },
          "metadata": {},
          "execution_count": 10
        }
      ]
    },
    {
      "cell_type": "code",
      "source": [
        "# Dot product\n",
        "arr1 = np.array([[1, 2], [3, 4]])\n",
        "arr2 = np.array([[5, 6], [7, 8]])\n",
        "print(\"Dot Product:\\n\", np.dot(arr1, arr2))\n",
        "\n",
        "# Transpose of a matrix\n",
        "print(\"Transpose:\\n\", arr1.T)\n",
        "\n",
        "# Determinant\n",
        "print(\"Determinant:\", np.linalg.det(arr1))"
      ],
      "metadata": {
        "colab": {
          "base_uri": "https://localhost:8080/"
        },
        "id": "6tzshZSH4oTK",
        "outputId": "283c9b04-9780-4d06-a49b-c855ed5b48ea"
      },
      "execution_count": null,
      "outputs": [
        {
          "output_type": "stream",
          "name": "stdout",
          "text": [
            "Dot Product:\n",
            " [[19 22]\n",
            " [43 50]]\n",
            "Transpose:\n",
            " [[1 3]\n",
            " [2 4]]\n",
            "Determinant: -2.0000000000000004\n"
          ]
        }
      ]
    },
    {
      "cell_type": "code",
      "source": [
        "arr = np.array([3, 1, 4, 1, 5, 9])\n",
        "\n",
        "# Sorting\n",
        "print(\"Sorted Array:\", np.sort(arr))\n",
        "\n",
        "# Searching\n",
        "print(\"Index of 1:\", np.where(arr == 1))\n",
        "\n",
        "# Counting\n",
        "print(\"Count of 1s:\", np.count_nonzero(arr == 1))"
      ],
      "metadata": {
        "colab": {
          "base_uri": "https://localhost:8080/"
        },
        "id": "JOlRUDMb4oPP",
        "outputId": "690c1d07-3ebc-4d67-c00a-d9e4fb09c6ec"
      },
      "execution_count": null,
      "outputs": [
        {
          "output_type": "stream",
          "name": "stdout",
          "text": [
            "Sorted Array: [1 1 3 4 5 9]\n",
            "Index of 1: (array([1, 3]),)\n",
            "Count of 1s: 2\n"
          ]
        }
      ]
    },
    {
      "cell_type": "code",
      "source": [
        "rand_arr = np.random.randint(1, 51, size=(3,3))\n",
        "\n",
        "print(\"Random Array\\n\", rand_arr)\n",
        "print(\"Mean\", rand_arr.mean())\n",
        "print(\"Transpose\\n\", rand_arr.T)\n",
        "print(\"Sorted along Rows\\n\", np.sort(rand_arr, axis=1))\n",
        "print(\"Elements greater than 25\\n\", rand_arr[rand_arr > 25])\n",
        "print(np.dot(rand_arr, rand_arr.T))"
      ],
      "metadata": {
        "colab": {
          "base_uri": "https://localhost:8080/"
        },
        "id": "Q8S4BnE54wIQ",
        "outputId": "8e95aa0f-e79b-4a6a-812a-00750efb72c3"
      },
      "execution_count": null,
      "outputs": [
        {
          "output_type": "stream",
          "name": "stdout",
          "text": [
            "Random Array\n",
            " [[15 34 36]\n",
            " [19 13 18]\n",
            " [ 4 33 13]]\n",
            "Mean 20.555555555555557\n",
            "Transpose\n",
            " [[15 19  4]\n",
            " [34 13 33]\n",
            " [36 18 13]]\n",
            "Sorted along Rows\n",
            " [[15 34 36]\n",
            " [13 18 19]\n",
            " [ 4 13 33]]\n",
            "Elements greater than 25\n",
            " [34 36 33]\n",
            "[[2677 1375 1650]\n",
            " [1375  854  739]\n",
            " [1650  739 1274]]\n"
          ]
        }
      ]
    },
    {
      "cell_type": "code",
      "source": [],
      "metadata": {
        "id": "y9cCJTyx4wE4"
      },
      "execution_count": null,
      "outputs": []
    }
  ]
}