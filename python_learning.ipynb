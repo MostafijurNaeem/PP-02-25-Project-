{
  "cells": [
    {
      "cell_type": "markdown",
      "metadata": {
        "id": "view-in-github",
        "colab_type": "text"
      },
      "source": [
        "<a href=\"https://colab.research.google.com/github/MostafijurNaeem/Python/blob/main/python_learning.ipynb\" target=\"_parent\"><img src=\"https://colab.research.google.com/assets/colab-badge.svg\" alt=\"Open In Colab\"/></a>"
      ]
    },
    {
      "cell_type": "markdown",
      "source": [
        "Printing"
      ],
      "metadata": {
        "id": "RATBzS2H5QhX"
      }
    },
    {
      "cell_type": "code",
      "execution_count": null,
      "metadata": {
        "colab": {
          "base_uri": "https://localhost:8080/"
        },
        "id": "KrzBUwJF20wq",
        "outputId": "7f213ce2-6912-4a7a-ee28-e83c651ea6f0"
      },
      "outputs": [
        {
          "name": "stdout",
          "output_type": "stream",
          "text": [
            "Hello Naeem\n"
          ]
        }
      ],
      "source": [
        "print (\"Hello Naeem\")\n"
      ]
    },
    {
      "cell_type": "code",
      "execution_count": null,
      "metadata": {
        "colab": {
          "base_uri": "https://localhost:8080/"
        },
        "id": "VQ9Em6Jl3pQL",
        "outputId": "ee8bcc99-494b-46c0-9d37-0427adee263d"
      },
      "outputs": [
        {
          "output_type": "stream",
          "name": "stdout",
          "text": [
            "Naeem is a good student.\n"
          ]
        }
      ],
      "source": [
        "student_name = 'naeem is a good student.'\n",
        "print(student_name.capitalize())"
      ]
    },
    {
      "cell_type": "markdown",
      "source": [],
      "metadata": {
        "id": "C_RFeHwmkIK3"
      }
    },
    {
      "cell_type": "code",
      "source": [
        "student_name = '    naeem is a good student.      '\n",
        "\n",
        "print(student_name.strip())\n",
        "print(student_name.capitalize())"
      ],
      "metadata": {
        "colab": {
          "base_uri": "https://localhost:8080/"
        },
        "id": "hw9L79Y36WJk",
        "outputId": "f28eaceb-ac84-4da2-9e65-1f1ca5113861"
      },
      "execution_count": null,
      "outputs": [
        {
          "output_type": "stream",
          "name": "stdout",
          "text": [
            "naeem is a good student.\n",
            "    naeem is a good student.      \n"
          ]
        }
      ]
    },
    {
      "cell_type": "code",
      "source": [
        "student_name = 'Naeem is a good student.'\n",
        "\n",
        "student_Name= student_name.strip().capitalize()\n",
        "print(student_Name)"
      ],
      "metadata": {
        "colab": {
          "base_uri": "https://localhost:8080/"
        },
        "id": "ceN0A-do64M0",
        "outputId": "759dfb1e-02c2-4a18-f3f9-c8c1b9f5eac8"
      },
      "execution_count": null,
      "outputs": [
        {
          "output_type": "stream",
          "name": "stdout",
          "text": [
            "Naeem is a good student.\n"
          ]
        }
      ]
    },
    {
      "cell_type": "markdown",
      "source": [
        "# Comments"
      ],
      "metadata": {
        "id": "N92HzETg27Ee"
      }
    },
    {
      "cell_type": "code",
      "source": [
        "\"\"\"fsdhgjfik\n",
        "#class_ss= 3252\n",
        "print(class_ss)\n",
        "class_ss= 3252\n",
        "print(class_ss)class_ss= 3252\n",
        "print(class_ss)\"\"\"\n",
        "class_ss= 3252\n",
        "print(class_ss)"
      ],
      "metadata": {
        "id": "MZabNNWK7R_j",
        "colab": {
          "base_uri": "https://localhost:8080/"
        },
        "outputId": "cffaad84-907a-4a0f-ad0f-2be4e21d3029"
      },
      "execution_count": null,
      "outputs": [
        {
          "output_type": "stream",
          "name": "stdout",
          "text": [
            "3252\n"
          ]
        }
      ]
    },
    {
      "cell_type": "code",
      "source": [
        "class_ss=   0.55\n",
        "print(class_ss)\n",
        "print(\"This is a\", type(class_ss), \"type data.\")\n",
        "print(class_ss)"
      ],
      "metadata": {
        "id": "qJOFYsyf7R0r",
        "colab": {
          "base_uri": "https://localhost:8080/"
        },
        "outputId": "7ce0acf4-13bd-4310-b1f6-99953eddf334"
      },
      "execution_count": null,
      "outputs": [
        {
          "output_type": "stream",
          "name": "stdout",
          "text": [
            "0.55\n",
            "This is a <class 'float'> type data.\n",
            "0.55\n"
          ]
        }
      ]
    },
    {
      "cell_type": "markdown",
      "source": [
        "***Type Casting***\n",
        "\n",
        "Put the converted value in a new set to print"
      ],
      "metadata": {
        "id": "mvSrb3697CDP"
      }
    },
    {
      "cell_type": "code",
      "source": [
        "class_ss=   2.55\n",
        "#print(marks)\n",
        "marks = float(class_ss)\n",
        "print(marks, type(marks))\n",
        "print(\"This is a\", type(marks), \"type data.\")\n",
        "x = 5\n",
        "y = 10\n",
        "X= str(x)\n",
        "Y= str(y)\n",
        "print(X + Y)\n"
      ],
      "metadata": {
        "colab": {
          "base_uri": "https://localhost:8080/"
        },
        "id": "5JYZm2Cq6YeQ",
        "outputId": "294a2217-514a-4f96-ed78-09796c4a970e"
      },
      "execution_count": null,
      "outputs": [
        {
          "output_type": "stream",
          "name": "stdout",
          "text": [
            "2.55 <class 'float'>\n",
            "This is a <class 'float'> type data.\n",
            "510\n"
          ]
        }
      ]
    },
    {
      "cell_type": "code",
      "source": [
        "print(\"rimi mota ar tasnuva shoytan\")"
      ],
      "metadata": {
        "colab": {
          "base_uri": "https://localhost:8080/"
        },
        "id": "sDJDEwU46Yaf",
        "outputId": "1048f1af-f331-4ff0-e5fd-71e68c9b0211"
      },
      "execution_count": null,
      "outputs": [
        {
          "output_type": "stream",
          "name": "stdout",
          "text": [
            "rimi mota ar tasnuva shoytan\n"
          ]
        }
      ]
    },
    {
      "cell_type": "code",
      "source": [
        "\"\"\"\n",
        "variable naminng\n",
        "snake_case\n",
        "camelCase\n",
        "PascelCase\n",
        "\n",
        "\n",
        "A variable name must start with a letter or the underscore character\n",
        "A variable name cannot start with a number\n",
        "A variable name can only contain alpha-numeric characters and underscores (A-z, 0-9, and _ )\n",
        "Variable names are case-sensitive (age, Age and AGE are three different variables)\n",
        "A variable name cannot be any of the Python keywords.\n",
        "\"\"\""
      ],
      "metadata": {
        "colab": {
          "base_uri": "https://localhost:8080/",
          "height": 70
        },
        "id": "yX5X6oqe6YXH",
        "outputId": "455b87a4-8b1c-414e-aeee-e46b2743ebea"
      },
      "execution_count": null,
      "outputs": [
        {
          "output_type": "execute_result",
          "data": {
            "text/plain": [
              "'variable naminng\\n#snake_case\\n#camelCase\\n#PascelCase\\n\\n\\nA variable name must start with a letter or the underscore character\\nA variable name cannot start with a number\\nA variable name can only contain alpha-numeric characters and underscores (A-z, 0-9, and _ )\\nVariable names are case-sensitive (age, Age and AGE are three different variables)\\nA variable name cannot be any of the Python keywords.\\n'"
            ],
            "application/vnd.google.colaboratory.intrinsic+json": {
              "type": "string"
            }
          },
          "metadata": {},
          "execution_count": 39
        }
      ]
    },
    {
      "cell_type": "code",
      "source": [
        "number = \"10\"\n",
        "Number = int(number)\n",
        "print(Number + 5)\n",
        "\n",
        "number = \"10\"\n",
        "print(Number,\"5\")"
      ],
      "metadata": {
        "colab": {
          "base_uri": "https://localhost:8080/"
        },
        "id": "Z9UFLcaV6YUH",
        "outputId": "324aa1f4-41f1-4741-b2a6-274c767a2864"
      },
      "execution_count": null,
      "outputs": [
        {
          "output_type": "stream",
          "name": "stdout",
          "text": [
            "15\n",
            "10 5\n"
          ]
        }
      ]
    },
    {
      "cell_type": "code",
      "source": [
        "groceries = ['rice', 'dal', 'onion', 'oil']\n",
        "print(groceries)\n",
        "\n"
      ],
      "metadata": {
        "colab": {
          "base_uri": "https://localhost:8080/"
        },
        "id": "acGPIDzm6YQ3",
        "outputId": "69d7c727-f6cf-44b3-e53f-f04e6e8c43a7"
      },
      "execution_count": null,
      "outputs": [
        {
          "output_type": "stream",
          "name": "stdout",
          "text": [
            "['rice', 'dal', 'onion', 'oil']\n"
          ]
        }
      ]
    },
    {
      "cell_type": "code",
      "source": [
        "groceries.append  ('salt')\n",
        "print(groceries)\n",
        "\n"
      ],
      "metadata": {
        "colab": {
          "base_uri": "https://localhost:8080/"
        },
        "id": "fnvg8JGAWLLM",
        "outputId": "cf2ae73e-2eb7-4085-9ea8-f549a5343a55"
      },
      "execution_count": null,
      "outputs": [
        {
          "output_type": "stream",
          "name": "stdout",
          "text": [
            "['rice', 'dal', 'onion', 'oil', 'salt']\n"
          ]
        }
      ]
    },
    {
      "cell_type": "code",
      "source": [
        "groceries.remove ('onion')\n",
        "print(groceries)"
      ],
      "metadata": {
        "colab": {
          "base_uri": "https://localhost:8080/"
        },
        "id": "m2Z2KswBWLId",
        "outputId": "402a7b22-899b-455d-b016-4d8a572127e7"
      },
      "execution_count": null,
      "outputs": [
        {
          "output_type": "stream",
          "name": "stdout",
          "text": [
            "['rice', 'dal', 'oil', 'salt']\n"
          ]
        }
      ]
    },
    {
      "cell_type": "code",
      "source": [
        "name = 'Naim'\n",
        "if name == 'Naeem':\n",
        "  print(\"Hello Naeem!\")\n",
        "  if name == 'naim':\n",
        "     print(\"Hello nayem!\")\n",
        "elif name == 'naim':\n",
        "  print(\"Hello naim!\")\n",
        "else:\n",
        "    print('Who are you?')\n"
      ],
      "metadata": {
        "colab": {
          "base_uri": "https://localhost:8080/"
        },
        "id": "hi0i8TGlWV1k",
        "outputId": "2c000a36-260f-4789-ad55-a8283cf397d7"
      },
      "execution_count": null,
      "outputs": [
        {
          "output_type": "stream",
          "name": "stdout",
          "text": [
            "Who are you?\n"
          ]
        }
      ]
    },
    {
      "cell_type": "markdown",
      "source": [
        "**For Loop:**\n",
        "\n",
        "**for** something **in** the set"
      ],
      "metadata": {
        "id": "mfFVL4_HK-JY"
      }
    },
    {
      "cell_type": "code",
      "source": [
        "name = input(\"What is your name?\")\n",
        "age = input(\"How old are you?\")\n",
        "print (f'Your name is {name}. And you are {age} years old')\n",
        "print('My name is',name,\".\",\"I am \",age, \"years old\" )"
      ],
      "metadata": {
        "colab": {
          "base_uri": "https://localhost:8080/"
        },
        "id": "c48ysO7iL-uI",
        "outputId": "375a807c-2167-4f74-efaf-6f7da7ded8b3"
      },
      "execution_count": null,
      "outputs": [
        {
          "output_type": "stream",
          "name": "stdout",
          "text": [
            "What is your name?naeem\n",
            "How old are you?24\n",
            "Your name is naeem. And you are 24 years old\n",
            "My name is naeem . I am  24 years old\n"
          ]
        }
      ]
    },
    {
      "cell_type": "code",
      "source": [
        "groceries = ['rice', 'dal', 'onion', 'oil', 'salt']\n",
        "for item in range(2):\n",
        "  print(groceries)\n",
        "for item in groceries:\n",
        "  print(item)"
      ],
      "metadata": {
        "colab": {
          "base_uri": "https://localhost:8080/"
        },
        "id": "GXCoHEsF2R6m",
        "outputId": "f813dac5-616d-4d93-ca6c-bc146ed00e05"
      },
      "execution_count": null,
      "outputs": [
        {
          "output_type": "stream",
          "name": "stdout",
          "text": [
            "['rice', 'dal', 'onion', 'oil', 'salt']\n",
            "['rice', 'dal', 'onion', 'oil', 'salt']\n",
            "rice\n",
            "dal\n",
            "onion\n",
            "oil\n",
            "salt\n"
          ]
        }
      ]
    },
    {
      "cell_type": "code",
      "source": [
        "groceries = ['rice', 'dal', 'onion', 'oil', 'salt']\n",
        "for index, item in enumerate(groceries):\n",
        "  print(f'Item in {index} is: {item}')"
      ],
      "metadata": {
        "colab": {
          "base_uri": "https://localhost:8080/"
        },
        "id": "p_-pVFJvJLl2",
        "outputId": "d8a44351-18d3-41cf-f067-38564e4a63da"
      },
      "execution_count": null,
      "outputs": [
        {
          "output_type": "stream",
          "name": "stdout",
          "text": [
            "Item in 0 is: rice\n",
            "Item in 1 is: dal\n",
            "Item in 2 is: onion\n",
            "Item in 3 is: oil\n",
            "Item in 4 is: salt\n"
          ]
        }
      ]
    },
    {
      "cell_type": "code",
      "source": [
        "groceries = ['rice', 'dal', 'onion', 'oil', 'salt']\n",
        "for index, item in enumerate(groceries):\n",
        "  print(f'Item in {index} is: {groceries[index]}')"
      ],
      "metadata": {
        "colab": {
          "base_uri": "https://localhost:8080/"
        },
        "id": "TDvbRXQRKCa3",
        "outputId": "7a7fa4b1-95bf-4d3d-eae6-2b0338f34fb3"
      },
      "execution_count": null,
      "outputs": [
        {
          "output_type": "stream",
          "name": "stdout",
          "text": [
            "Item in 0 is: rice\n",
            "Item in 1 is: dal\n",
            "Item in 2 is: onion\n",
            "Item in 3 is: oil\n",
            "Item in 4 is: salt\n"
          ]
        }
      ]
    },
    {
      "cell_type": "code",
      "source": [
        "groceries = ['rice', 'dal', 'onion', 'oil', 'salt']\n",
        "groceries.remove ('dal')\n",
        "groceries.append  ('lentil')\n",
        "print(groceries)\n",
        "#for index, item in enumerate(groceries):\n",
        " # print(f'Item in {index} is: {groceries[index]}')"
      ],
      "metadata": {
        "colab": {
          "base_uri": "https://localhost:8080/"
        },
        "id": "52-YWMM_Ojj4",
        "outputId": "f34a9d88-776f-42c2-a535-26a0953dd42d"
      },
      "execution_count": null,
      "outputs": [
        {
          "output_type": "stream",
          "name": "stdout",
          "text": [
            "['rice', 'onion', 'oil', 'salt', 'lentil']\n"
          ]
        }
      ]
    },
    {
      "cell_type": "code",
      "source": [
        "groceries = ['rice', 'dal', 'onion', 'oil', 'salt']\n",
        "groceries[4] = 'potato'\n",
        "groceries.append (\"salt\")\n",
        "groceries.append (\"banana\")\n",
        "groceries\n",
        "\n",
        "#for index, item in enumerate(groceries):\n",
        "  #print(f'Item in {index} is: {groceries[0]}')"
      ],
      "metadata": {
        "colab": {
          "base_uri": "https://localhost:8080/"
        },
        "id": "cwGpUu-fOnxo",
        "outputId": "cc47e4dc-c430-4922-f497-db1562aa4c8c"
      },
      "execution_count": null,
      "outputs": [
        {
          "output_type": "execute_result",
          "data": {
            "text/plain": [
              "['rice', 'dal', 'onion', 'oil', 'potato', 'salt', 'banana']"
            ]
          },
          "metadata": {},
          "execution_count": 24
        }
      ]
    },
    {
      "cell_type": "code",
      "source": [
        "groceries = ['rice', 'dal', 'onion', 'oil', 'salt', 'dal', 'dal', 'dal', 'dal']\n",
        "for index, item in enumerate(groceries):\n",
        "  #if groceries == 'dal':\n",
        "  #print(groceries[index])\n",
        "  if groceries[index] == 'dal':\n",
        "    groceries[index] = 'lentil'\n",
        "print(groceries)"
      ],
      "metadata": {
        "colab": {
          "base_uri": "https://localhost:8080/"
        },
        "id": "NSzVlT6fRb-Z",
        "outputId": "d097be6d-9c56-4302-ca82-1f1677846cd9"
      },
      "execution_count": null,
      "outputs": [
        {
          "output_type": "stream",
          "name": "stdout",
          "text": [
            "['rice', 'lentil', 'onion', 'oil', 'salt', 'lentil', 'lentil', 'lentil', 'lentil']\n"
          ]
        }
      ]
    },
    {
      "cell_type": "markdown",
      "source": [
        "**List Manupulation**"
      ],
      "metadata": {
        "id": "dFgJk4cEg5Vl"
      }
    },
    {
      "cell_type": "code",
      "source": [
        "object_list = [1, 'hi', 2.40, groceries]\n",
        "object_list"
      ],
      "metadata": {
        "colab": {
          "base_uri": "https://localhost:8080/"
        },
        "id": "MZKGG4CGTamt",
        "outputId": "0b8d39f3-b942-4d73-c022-1becefc435c7"
      },
      "execution_count": null,
      "outputs": [
        {
          "output_type": "execute_result",
          "data": {
            "text/plain": [
              "[1,\n",
              " 'hi',\n",
              " 2.4,\n",
              " ['rice',\n",
              "  'lentil',\n",
              "  'onion',\n",
              "  'oil',\n",
              "  'salt',\n",
              "  'lentil',\n",
              "  'lentil',\n",
              "  'lentil',\n",
              "  'lentil']]"
            ]
          },
          "metadata": {},
          "execution_count": 31
        }
      ]
    },
    {
      "cell_type": "code",
      "source": [
        "student_marks = list(range(70,101))\n",
        "print(student_marks)"
      ],
      "metadata": {
        "colab": {
          "base_uri": "https://localhost:8080/"
        },
        "id": "z1xj4GCIfh4u",
        "outputId": "5cf834eb-b5cc-481d-82d0-27181aee37d8"
      },
      "execution_count": null,
      "outputs": [
        {
          "output_type": "stream",
          "name": "stdout",
          "text": [
            "[70, 71, 72, 73, 74, 75, 76, 77, 78, 79, 80, 81, 82, 83, 84, 85, 86, 87, 88, 89, 90, 91, 92, 93, 94, 95, 96, 97, 98, 99, 100]\n"
          ]
        }
      ]
    },
    {
      "cell_type": "code",
      "source": [
        "student_marks [3:7]"
      ],
      "metadata": {
        "colab": {
          "base_uri": "https://localhost:8080/"
        },
        "id": "LiRAXcVJfild",
        "outputId": "b71153f9-db8e-4d48-95ab-4690bf58b35d"
      },
      "execution_count": null,
      "outputs": [
        {
          "output_type": "execute_result",
          "data": {
            "text/plain": [
              "[73, 74, 75, 76]"
            ]
          },
          "metadata": {},
          "execution_count": 33
        }
      ]
    },
    {
      "cell_type": "code",
      "source": [
        "student_marks [-3]"
      ],
      "metadata": {
        "colab": {
          "base_uri": "https://localhost:8080/"
        },
        "id": "gj71Ho1Wfiiu",
        "outputId": "a0087b57-1021-46b1-c811-3733fb4c5c76"
      },
      "execution_count": null,
      "outputs": [
        {
          "output_type": "execute_result",
          "data": {
            "text/plain": [
              "98"
            ]
          },
          "metadata": {},
          "execution_count": 34
        }
      ]
    },
    {
      "cell_type": "code",
      "source": [
        "student_marks [-8:-1]"
      ],
      "metadata": {
        "colab": {
          "base_uri": "https://localhost:8080/"
        },
        "id": "oL3kOqdGfift",
        "outputId": "ea7f9490-1a38-49ee-849a-b3dfe81c7d7f"
      },
      "execution_count": null,
      "outputs": [
        {
          "output_type": "execute_result",
          "data": {
            "text/plain": [
              "[93, 94, 95, 96, 97, 98, 99]"
            ]
          },
          "metadata": {},
          "execution_count": 35
        }
      ]
    },
    {
      "cell_type": "code",
      "source": [
        "student_marks [-8:]"
      ],
      "metadata": {
        "colab": {
          "base_uri": "https://localhost:8080/"
        },
        "outputId": "c0168862-1c64-4dc8-b01a-7a25197e2bbf",
        "id": "-IEtCM05hPiH"
      },
      "execution_count": null,
      "outputs": [
        {
          "output_type": "execute_result",
          "data": {
            "text/plain": [
              "[93, 94, 95, 96, 97, 98, 99, 100]"
            ]
          },
          "metadata": {},
          "execution_count": 36
        }
      ]
    },
    {
      "cell_type": "code",
      "source": [
        "student_marks[:]"
      ],
      "metadata": {
        "colab": {
          "base_uri": "https://localhost:8080/"
        },
        "id": "CNOtmNewg1_z",
        "outputId": "dfa91fca-d5dd-454d-e705-78ef5b00051a"
      },
      "execution_count": null,
      "outputs": [
        {
          "output_type": "execute_result",
          "data": {
            "text/plain": [
              "[70,\n",
              " 71,\n",
              " 72,\n",
              " 73,\n",
              " 74,\n",
              " 75,\n",
              " 76,\n",
              " 77,\n",
              " 78,\n",
              " 79,\n",
              " 80,\n",
              " 81,\n",
              " 82,\n",
              " 83,\n",
              " 84,\n",
              " 85,\n",
              " 86,\n",
              " 87,\n",
              " 88,\n",
              " 89,\n",
              " 90,\n",
              " 91,\n",
              " 92,\n",
              " 93,\n",
              " 94,\n",
              " 95,\n",
              " 96,\n",
              " 97,\n",
              " 98,\n",
              " 99,\n",
              " 100]"
            ]
          },
          "metadata": {},
          "execution_count": 37
        }
      ]
    },
    {
      "cell_type": "code",
      "source": [
        "print(student_marks)\n",
        "student_marks[:10:3]"
      ],
      "metadata": {
        "colab": {
          "base_uri": "https://localhost:8080/"
        },
        "id": "PkKq7hdcg19D",
        "outputId": "36118521-34c2-4c62-821d-5f3a668fb47a"
      },
      "execution_count": null,
      "outputs": [
        {
          "output_type": "stream",
          "name": "stdout",
          "text": [
            "[70, 71, 72, 73, 74, 75, 76, 77, 78, 79, 80, 81, 82, 83, 84, 85, 86, 87, 88, 89, 90, 91, 92, 93, 94, 95, 96, 97, 98, 99, 100]\n"
          ]
        },
        {
          "output_type": "execute_result",
          "data": {
            "text/plain": [
              "[70, 73, 76, 79]"
            ]
          },
          "metadata": {},
          "execution_count": 40
        }
      ]
    },
    {
      "cell_type": "code",
      "source": [
        "student_marks.remove(82)\n",
        "print(student_marks)"
      ],
      "metadata": {
        "colab": {
          "base_uri": "https://localhost:8080/"
        },
        "id": "Tk1vhqyYg16b",
        "outputId": "03d59d32-009d-48a2-88be-037db0d91a36"
      },
      "execution_count": null,
      "outputs": [
        {
          "output_type": "stream",
          "name": "stdout",
          "text": [
            "[70, 71, 72, 73, 74, 75, 76, 77, 78, 79, 80, 81, 83, 84, 85, 86, 87, 88, 89, 90, 91, 92, 93, 94, 95, 96, 97, 98, 99, 100]\n"
          ]
        }
      ]
    },
    {
      "cell_type": "markdown",
      "source": [
        "making two different list from one list\n",
        "Adding two different list"
      ],
      "metadata": {
        "id": "YRj8GuoxlfiQ"
      }
    },
    {
      "cell_type": "code",
      "source": [
        "print(student_marks)\n",
        "list_1 = student_marks[0:3]\n",
        "list_2 = student_marks[-3:]\n",
        "added_list = list_1+list_2\n",
        "print(added_list)"
      ],
      "metadata": {
        "colab": {
          "base_uri": "https://localhost:8080/"
        },
        "id": "EX684q-Kg13q",
        "outputId": "0d90438d-8094-4507-dc53-78cc39cd6f02"
      },
      "execution_count": null,
      "outputs": [
        {
          "output_type": "stream",
          "name": "stdout",
          "text": [
            "[70, 71, 72, 73, 74, 75, 76, 77, 78, 79, 80, 81, 83, 84, 85, 86, 87, 88, 89, 90, 91, 92, 93, 94, 95, 96, 97, 98, 99, 100]\n",
            "[70, 71, 72, 98, 99, 100]\n"
          ]
        }
      ]
    },
    {
      "cell_type": "code",
      "source": [
        "Counting, Maximum , minimum"
      ],
      "metadata": {
        "id": "UqzmYtAvlbup"
      },
      "execution_count": null,
      "outputs": []
    },
    {
      "cell_type": "code",
      "source": [
        "print(len(student_marks))\n",
        "print(f\"Maximum Marks is: {max(student_marks)}\")\n",
        "print(min(student_marks))\n"
      ],
      "metadata": {
        "colab": {
          "base_uri": "https://localhost:8080/"
        },
        "id": "8M9tGETVg11D",
        "outputId": "c8f201fb-8d1a-40cf-ab15-37843717492a"
      },
      "execution_count": null,
      "outputs": [
        {
          "output_type": "stream",
          "name": "stdout",
          "text": [
            "30\n",
            "Maximum Marks is: 100\n",
            "70\n"
          ]
        }
      ]
    },
    {
      "cell_type": "markdown",
      "source": [
        "**Data exchanging**"
      ],
      "metadata": {
        "id": "N4XsSvxVlWgR"
      }
    },
    {
      "cell_type": "code",
      "source": [],
      "metadata": {
        "id": "U9OKi8bOg1yD"
      },
      "execution_count": null,
      "outputs": []
    },
    {
      "cell_type": "markdown",
      "source": [
        "**Data Sorting**"
      ],
      "metadata": {
        "id": "WmjFCGi5lZE3"
      }
    },
    {
      "cell_type": "code",
      "source": [
        "student_marks.sort()\n",
        "student_marks"
      ],
      "metadata": {
        "colab": {
          "base_uri": "https://localhost:8080/"
        },
        "id": "pmwRLgOhk3Fl",
        "outputId": "1f97cbd7-e074-4492-d477-5b8eeb04c593"
      },
      "execution_count": null,
      "outputs": [
        {
          "output_type": "execute_result",
          "data": {
            "text/plain": [
              "[57,\n",
              " 67,\n",
              " 70,\n",
              " 71,\n",
              " 75,\n",
              " 76,\n",
              " 77,\n",
              " 77,\n",
              " 78,\n",
              " 79,\n",
              " 80,\n",
              " 81,\n",
              " 83,\n",
              " 84,\n",
              " 85,\n",
              " 86,\n",
              " 87,\n",
              " 88,\n",
              " 89,\n",
              " 90,\n",
              " 91,\n",
              " 92,\n",
              " 93,\n",
              " 94,\n",
              " 95,\n",
              " 96,\n",
              " 97,\n",
              " 98,\n",
              " 99,\n",
              " 100]"
            ]
          },
          "metadata": {},
          "execution_count": 58
        }
      ]
    },
    {
      "cell_type": "code",
      "source": [
        "student_marks.sort( reverse = True )\n",
        "student_marks"
      ],
      "metadata": {
        "colab": {
          "base_uri": "https://localhost:8080/"
        },
        "id": "KUVj0tQrlvW_",
        "outputId": "3f0f425d-a1c5-4517-ce1e-7edea6e566c4"
      },
      "execution_count": null,
      "outputs": [
        {
          "output_type": "execute_result",
          "data": {
            "text/plain": [
              "[100,\n",
              " 99,\n",
              " 98,\n",
              " 97,\n",
              " 96,\n",
              " 95,\n",
              " 94,\n",
              " 93,\n",
              " 92,\n",
              " 91,\n",
              " 90,\n",
              " 89,\n",
              " 88,\n",
              " 87,\n",
              " 86,\n",
              " 85,\n",
              " 84,\n",
              " 83,\n",
              " 81,\n",
              " 80,\n",
              " 79,\n",
              " 78,\n",
              " 77,\n",
              " 77,\n",
              " 76,\n",
              " 75,\n",
              " 71,\n",
              " 70,\n",
              " 67,\n",
              " 57]"
            ]
          },
          "metadata": {},
          "execution_count": 57
        }
      ]
    },
    {
      "cell_type": "code",
      "source": [
        "plain_text ='My name is Naeem'\n",
        "plain_text[8:11] + plain_text[10:17]"
      ],
      "metadata": {
        "colab": {
          "base_uri": "https://localhost:8080/",
          "height": 36
        },
        "id": "nloTWiL_lvUJ",
        "outputId": "94396e36-5708-4518-afc3-1e6f02c0dda1"
      },
      "execution_count": null,
      "outputs": [
        {
          "output_type": "execute_result",
          "data": {
            "text/plain": [
              "'is  Naeem'"
            ],
            "application/vnd.google.colaboratory.intrinsic+json": {
              "type": "string"
            }
          },
          "metadata": {},
          "execution_count": 59
        }
      ]
    },
    {
      "cell_type": "markdown",
      "source": [
        "TUPLE"
      ],
      "metadata": {
        "id": "sxd_4CgGnAOQ"
      }
    },
    {
      "cell_type": "code",
      "source": [
        "first_tuple = (3.234, 32.5, 353, 32, 2, 234, 23)\n",
        "print(first_tuple[3])\n",
        "print(first_tuple[2:5])"
      ],
      "metadata": {
        "colab": {
          "base_uri": "https://localhost:8080/"
        },
        "id": "fGQjYSfZl_Vw",
        "outputId": "802b2fe6-dec5-4e48-861f-4d3f8338a8b0"
      },
      "execution_count": null,
      "outputs": [
        {
          "output_type": "stream",
          "name": "stdout",
          "text": [
            "32\n",
            "(353, 32, 2)\n"
          ]
        }
      ]
    },
    {
      "cell_type": "code",
      "source": [
        "first_tuple[3] = 4.1416"
      ],
      "metadata": {
        "collapsed": true,
        "id": "lI3k9zf2l_Th"
      },
      "execution_count": null,
      "outputs": []
    },
    {
      "cell_type": "code",
      "source": [
        "Name = input(\"What is your name\")\n",
        "print(f\"Hello! {Name}\")"
      ],
      "metadata": {
        "colab": {
          "base_uri": "https://localhost:8080/"
        },
        "id": "AiO94rrTl_QX",
        "outputId": "42367651-7a9a-48fa-bf09-74b5ff629024"
      },
      "execution_count": null,
      "outputs": [
        {
          "output_type": "stream",
          "name": "stdout",
          "text": [
            "What is your nameNaeem\n",
            "Hello! Naeem\n"
          ]
        }
      ]
    },
    {
      "cell_type": "markdown",
      "source": [
        "Area Measurement\n"
      ],
      "metadata": {
        "id": "C3QwsAVCrgp5"
      }
    },
    {
      "cell_type": "code",
      "source": [
        "side_of_sq= input (\"Give the length of a side of a sq:  \")\n",
        "print (type(side_of_sq))\n",
        "sq_area = int(side_of_sq) * int(side_of_sq)\n",
        "print(f'Here is the area od the square: {sq_area}')\n",
        "print(type(sq_area))"
      ],
      "metadata": {
        "colab": {
          "base_uri": "https://localhost:8080/"
        },
        "id": "ssjouwLalvRY",
        "outputId": "d665d91e-7827-41a8-838f-04d5f687a9ce"
      },
      "execution_count": null,
      "outputs": [
        {
          "output_type": "stream",
          "name": "stdout",
          "text": [
            "Give the length of a side of a sq:  12\n",
            "<class 'str'>\n",
            "Here is the area od the square: 144\n",
            "<class 'int'>\n"
          ]
        }
      ]
    },
    {
      "cell_type": "code",
      "source": [
        "radius = input (\"Radius of the circle    \")\n",
        "c_area = 3.1416 * (float(radius)* float(radius))\n",
        "print(f\"Area of the circle is: {c_area}\" )\n"
      ],
      "metadata": {
        "colab": {
          "base_uri": "https://localhost:8080/"
        },
        "id": "63ezGi9Kqgni",
        "outputId": "c18a6560-4bdd-45de-d6de-a9e64df765fe"
      },
      "execution_count": null,
      "outputs": [
        {
          "output_type": "stream",
          "name": "stdout",
          "text": [
            "Radius of the circle    10\n",
            "Area of the circle is: 314.15999999999997\n"
          ]
        }
      ]
    },
    {
      "cell_type": "code",
      "source": [
        "length = input ('Input the length of the ractangle    ')\n",
        "breadth = input ('Input the length of the ractangle    ')\n",
        "area_r = float(length) * float(breadth)\n",
        "print(area_r)\n"
      ],
      "metadata": {
        "colab": {
          "base_uri": "https://localhost:8080/"
        },
        "id": "gT2bFqbErkBZ",
        "outputId": "ff6f07ac-6a7d-40e5-c5ae-2e19a95d6086"
      },
      "execution_count": null,
      "outputs": [
        {
          "output_type": "stream",
          "name": "stdout",
          "text": [
            "Input the length of the ractangle    456\n",
            "Input the length of the ractangle    3426755432329567423547836583476587365874668547684876457836\n",
            "1.5626004771422828e+60\n"
          ]
        }
      ]
    },
    {
      "cell_type": "markdown",
      "source": [
        "**Class 4**"
      ],
      "metadata": {
        "id": "V0cIpOiuYhtn"
      }
    },
    {
      "cell_type": "code",
      "source": [
        "a = 10\n",
        "b = 10.5\n",
        "c = \" This is a number addition \"\n",
        "name = \"Printer\"\n",
        "print(a, b, sep = \" + \", end = \"\\n\")\n",
        "print('=', a+b)"
      ],
      "metadata": {
        "colab": {
          "base_uri": "https://localhost:8080/"
        },
        "id": "aUROcVAfWza2",
        "outputId": "a28b9b68-410a-4eeb-bfa0-c53e667e5016"
      },
      "execution_count": null,
      "outputs": [
        {
          "output_type": "stream",
          "name": "stdout",
          "text": [
            "10 + 10.5\n",
            "= 20.5\n"
          ]
        }
      ]
    },
    {
      "cell_type": "code",
      "source": [
        "print(2 + 5)\n",
        "print(2 - 5)\n",
        "print(2 * 5)\n",
        "print(2 / 5)\n",
        "\n",
        "# 2^5\n",
        "print(2 ** 5)\n",
        "\n",
        "# 5 mod 2 = 1\n",
        "print(5 % 2)"
      ],
      "metadata": {
        "colab": {
          "base_uri": "https://localhost:8080/"
        },
        "id": "jT6KLBuiWzXu",
        "outputId": "731f4dbc-2bd2-4a4d-9ef6-ba887f98a682"
      },
      "execution_count": null,
      "outputs": [
        {
          "output_type": "stream",
          "name": "stdout",
          "text": [
            "7\n",
            "-3\n",
            "10\n",
            "0.4\n",
            "32\n",
            "1\n"
          ]
        }
      ]
    },
    {
      "cell_type": "code",
      "source": [
        "# Integer Divison\n",
        "print(9 // 5, type(9//5))"
      ],
      "metadata": {
        "colab": {
          "base_uri": "https://localhost:8080/"
        },
        "id": "_oy0UneXWzUv",
        "outputId": "1f8b5d76-602e-49bd-b9e4-6eaabab0043a"
      },
      "execution_count": null,
      "outputs": [
        {
          "output_type": "stream",
          "name": "stdout",
          "text": [
            "1 <class 'int'>\n"
          ]
        }
      ]
    },
    {
      "cell_type": "code",
      "source": [
        "# Assignment operator\n",
        "# Statement\n",
        "a = 10\n",
        "b = 10.5\n",
        "\n",
        "# Expression\n",
        "print(10/5)"
      ],
      "metadata": {
        "colab": {
          "base_uri": "https://localhost:8080/"
        },
        "id": "VE6wUJVdWzSY",
        "outputId": "bddc60fc-9ffe-4ad5-dc1b-3465678e531c"
      },
      "execution_count": null,
      "outputs": [
        {
          "output_type": "stream",
          "name": "stdout",
          "text": [
            "2.0\n"
          ]
        }
      ]
    },
    {
      "cell_type": "code",
      "source": [
        "a = 10\n",
        "b = 3\n",
        "a %= b\n",
        "print(a)"
      ],
      "metadata": {
        "colab": {
          "base_uri": "https://localhost:8080/"
        },
        "id": "Wtz3S2OeX4UW",
        "outputId": "956d062f-19be-47d8-a27d-17262ca5f74c"
      },
      "execution_count": null,
      "outputs": [
        {
          "output_type": "stream",
          "name": "stdout",
          "text": [
            "1\n"
          ]
        }
      ]
    },
    {
      "cell_type": "code",
      "source": [
        "a = 10\n",
        "b = 3\n",
        "a %= b\n",
        "# a == b\n",
        "# a != b\n",
        "# a > b\n",
        "# a < b\n",
        "a <= b\n"
      ],
      "metadata": {
        "colab": {
          "base_uri": "https://localhost:8080/"
        },
        "id": "eAaY7SGNX4Rk",
        "outputId": "b41c490a-8179-4363-b845-2e8ed194745f"
      },
      "execution_count": null,
      "outputs": [
        {
          "output_type": "execute_result",
          "data": {
            "text/plain": [
              "True"
            ]
          },
          "metadata": {},
          "execution_count": 79
        }
      ]
    },
    {
      "cell_type": "markdown",
      "source": [
        "import module"
      ],
      "metadata": {
        "id": "HrxwZhtqeKLg"
      }
    },
    {
      "cell_type": "code",
      "source": [
        "import math\n",
        "print(math.pi)\n",
        "\n",
        "# 2^5 ==> 2**5\n",
        "print(math.pow(2,5))"
      ],
      "metadata": {
        "colab": {
          "base_uri": "https://localhost:8080/"
        },
        "id": "h7GbkTzIX4O1",
        "outputId": "becba0d0-47f2-4ff9-9b2b-1431e21857a5"
      },
      "execution_count": null,
      "outputs": [
        {
          "output_type": "stream",
          "name": "stdout",
          "text": [
            "3.141592653589793\n",
            "32.0\n"
          ]
        }
      ]
    },
    {
      "cell_type": "code",
      "source": [
        "print(math.floor(1.22334))"
      ],
      "metadata": {
        "colab": {
          "base_uri": "https://localhost:8080/"
        },
        "id": "lv1XUSa_X4L8",
        "outputId": "e7122e47-326d-4ce5-eac0-11016f038507"
      },
      "execution_count": null,
      "outputs": [
        {
          "output_type": "stream",
          "name": "stdout",
          "text": [
            "1\n"
          ]
        }
      ]
    },
    {
      "cell_type": "code",
      "source": [
        "print(math.ceil(1.22334))\n"
      ],
      "metadata": {
        "colab": {
          "base_uri": "https://localhost:8080/"
        },
        "id": "ZKGl1XK7YBpE",
        "outputId": "593e5811-e4a1-4de8-ea8c-2187e7f1ef0d"
      },
      "execution_count": null,
      "outputs": [
        {
          "output_type": "stream",
          "name": "stdout",
          "text": [
            "2\n"
          ]
        }
      ]
    },
    {
      "cell_type": "code",
      "source": [
        "import math"
      ],
      "metadata": {
        "id": "7mtNUbrtYBl9"
      },
      "execution_count": null,
      "outputs": []
    },
    {
      "cell_type": "code",
      "source": [
        "print(math.ceil(1.22334))\n"
      ],
      "metadata": {
        "colab": {
          "base_uri": "https://localhost:8080/"
        },
        "id": "Y_dOzyu7YBjN",
        "outputId": "953daedf-3bd1-4fed-f2f3-41b4eb917a1e"
      },
      "execution_count": null,
      "outputs": [
        {
          "output_type": "stream",
          "name": "stdout",
          "text": [
            "2\n"
          ]
        }
      ]
    },
    {
      "cell_type": "code",
      "source": [
        "print(math.round(1.22334))"
      ],
      "metadata": {
        "collapsed": true,
        "id": "_MOmjPluWzL3"
      },
      "execution_count": null,
      "outputs": []
    },
    {
      "cell_type": "markdown",
      "source": [
        " erors"
      ],
      "metadata": {
        "id": "skwbO3piedr5"
      }
    },
    {
      "cell_type": "code",
      "source": [
        "print(i am a student)"
      ],
      "metadata": {
        "colab": {
          "base_uri": "https://localhost:8080/",
          "height": 106
        },
        "id": "mdSb3cdXYLhC",
        "outputId": "8732e2c0-9d68-453a-8fd2-538fbe7482d5"
      },
      "execution_count": null,
      "outputs": [
        {
          "output_type": "error",
          "ename": "SyntaxError",
          "evalue": "invalid syntax. Perhaps you forgot a comma? (<ipython-input-53-924f08a9d875>, line 1)",
          "traceback": [
            "\u001b[0;36m  File \u001b[0;32m\"<ipython-input-53-924f08a9d875>\"\u001b[0;36m, line \u001b[0;32m1\u001b[0m\n\u001b[0;31m    print(i am a student)\u001b[0m\n\u001b[0m          ^\u001b[0m\n\u001b[0;31mSyntaxError\u001b[0m\u001b[0;31m:\u001b[0m invalid syntax. Perhaps you forgot a comma?\n"
          ]
        }
      ]
    },
    {
      "cell_type": "code",
      "source": [
        "print(2/0)\n",
        "\n",
        "5 = b"
      ],
      "metadata": {
        "colab": {
          "base_uri": "https://localhost:8080/",
          "height": 106
        },
        "id": "vh6rPyfiYLef",
        "outputId": "43a78ab7-2b12-4038-838f-82b985429ee4"
      },
      "execution_count": null,
      "outputs": [
        {
          "output_type": "error",
          "ename": "SyntaxError",
          "evalue": "cannot assign to literal here. Maybe you meant '==' instead of '='? (<ipython-input-38-a56e304456c6>, line 3)",
          "traceback": [
            "\u001b[0;36m  File \u001b[0;32m\"<ipython-input-38-a56e304456c6>\"\u001b[0;36m, line \u001b[0;32m3\u001b[0m\n\u001b[0;31m    5 = b\u001b[0m\n\u001b[0m    ^\u001b[0m\n\u001b[0;31mSyntaxError\u001b[0m\u001b[0;31m:\u001b[0m cannot assign to literal here. Maybe you meant '==' instead of '='?\n"
          ]
        }
      ]
    },
    {
      "cell_type": "code",
      "source": [
        "a = 10\n",
        "b = 10\n",
        "if a == b:\n",
        "  print(\"a is equal b\")"
      ],
      "metadata": {
        "colab": {
          "base_uri": "https://localhost:8080/"
        },
        "id": "XeZPI2h-YLYu",
        "outputId": "9bfc7e8c-97dc-4b43-ef1d-e359b4e81d22"
      },
      "execution_count": null,
      "outputs": [
        {
          "output_type": "stream",
          "name": "stdout",
          "text": [
            "a is equal b\n"
          ]
        }
      ]
    },
    {
      "cell_type": "markdown",
      "source": [
        "For Madari is Here  ::::::"
      ],
      "metadata": {
        "id": "V1QqICN-sbJc"
      }
    },
    {
      "cell_type": "code",
      "source": [
        "for i in range(4):\n",
        "  for j in range(5):\n",
        "    print(i,j, end=\" | \")\n",
        "  print()"
      ],
      "metadata": {
        "colab": {
          "base_uri": "https://localhost:8080/"
        },
        "id": "LRKacqY0YLVu",
        "outputId": "96678f98-2485-4080-d313-5a4fd8c0b04f"
      },
      "execution_count": null,
      "outputs": [
        {
          "output_type": "stream",
          "name": "stdout",
          "text": [
            "0 0 | 0 1 | 0 2 | 0 3 | 0 4 | \n",
            "1 0 | 1 1 | 1 2 | 1 3 | 1 4 | \n",
            "2 0 | 2 1 | 2 2 | 2 3 | 2 4 | \n",
            "3 0 | 3 1 | 3 2 | 3 3 | 3 4 | \n"
          ]
        }
      ]
    },
    {
      "cell_type": "code",
      "source": [
        "for i in range(3):\n",
        "  for j in range(3):\n",
        "    if i == j:\n",
        "      print(\"*\", end=\"\")\n",
        "    else:\n",
        "      print(\"$\",end=\"\")\n",
        "  print()"
      ],
      "metadata": {
        "colab": {
          "base_uri": "https://localhost:8080/"
        },
        "id": "6kEwXUKHYUmu",
        "outputId": "b4cd1940-8da5-4b82-c0c4-825df561c1c3"
      },
      "execution_count": null,
      "outputs": [
        {
          "output_type": "stream",
          "name": "stdout",
          "text": [
            "*$$\n",
            "$*$\n",
            "$$*\n"
          ]
        }
      ]
    },
    {
      "cell_type": "code",
      "source": [
        "for i in range(5):\n",
        "  for j in range(3):\n",
        "    if i == j:\n",
        "      print(\"*\", end=\"\")\n",
        "    else:\n",
        "      print(\"*\",end=\"\")\n",
        "  print()"
      ],
      "metadata": {
        "colab": {
          "base_uri": "https://localhost:8080/"
        },
        "id": "0oPeBbaxYUk2",
        "outputId": "db8d6640-d952-4b99-e873-4f5f47ccb83a"
      },
      "execution_count": null,
      "outputs": [
        {
          "output_type": "stream",
          "name": "stdout",
          "text": [
            "***\n",
            "***\n",
            "***\n",
            "***\n",
            "***\n"
          ]
        }
      ]
    },
    {
      "cell_type": "code",
      "source": [
        "a= 5.6\n",
        "a = int(5.6)\n",
        "print(a)\n"
      ],
      "metadata": {
        "colab": {
          "base_uri": "https://localhost:8080/"
        },
        "id": "SXCLrWreYUh3",
        "outputId": "e06ddd0a-0b26-4165-b34d-b0e0cab3401a"
      },
      "execution_count": null,
      "outputs": [
        {
          "output_type": "stream",
          "name": "stdout",
          "text": [
            "5\n"
          ]
        }
      ]
    },
    {
      "cell_type": "code",
      "source": [
        "def get_name():     #header\n",
        "  #body\n",
        "  #codes\n",
        "  return 'dab'"
      ],
      "metadata": {
        "id": "WmzHODVFfsJR"
      },
      "execution_count": null,
      "outputs": []
    },
    {
      "cell_type": "code",
      "source": [
        "get_name ()"
      ],
      "metadata": {
        "colab": {
          "base_uri": "https://localhost:8080/",
          "height": 36
        },
        "id": "Uf-iyo_gfsGs",
        "outputId": "44e27279-9886-4f22-8143-49d7dbecc098"
      },
      "execution_count": null,
      "outputs": [
        {
          "output_type": "execute_result",
          "data": {
            "text/plain": [
              "'dab'"
            ],
            "application/vnd.google.colaboratory.intrinsic+json": {
              "type": "string"
            }
          },
          "metadata": {},
          "execution_count": 96
        }
      ]
    },
    {
      "cell_type": "code",
      "source": [
        "def narikel( a, b, c):\n",
        "  print(a+b+c)"
      ],
      "metadata": {
        "id": "HCTd_EEyfsEB"
      },
      "execution_count": null,
      "outputs": []
    },
    {
      "cell_type": "code",
      "source": [
        "narikel ('kola', 'apple', 'Tormuj')"
      ],
      "metadata": {
        "colab": {
          "base_uri": "https://localhost:8080/"
        },
        "id": "KpJ0y6BkfsBi",
        "outputId": "d1aaa597-157a-47af-d213-603fff68dd91"
      },
      "execution_count": null,
      "outputs": [
        {
          "output_type": "stream",
          "name": "stdout",
          "text": [
            "kolaappleTormuj\n"
          ]
        }
      ]
    },
    {
      "cell_type": "code",
      "source": [
        "def sum(a,b):\n",
        "  return(a+b)"
      ],
      "metadata": {
        "id": "eAsdbisfiV1K"
      },
      "execution_count": null,
      "outputs": []
    },
    {
      "cell_type": "code",
      "source": [
        "tsum=sum(100,4344)\n",
        "print(tsum)"
      ],
      "metadata": {
        "colab": {
          "base_uri": "https://localhost:8080/"
        },
        "id": "xhigCfT9kBL7",
        "outputId": "2a91ea46-c966-472f-94a8-5f8ffb033ed2"
      },
      "execution_count": null,
      "outputs": [
        {
          "output_type": "stream",
          "name": "stdout",
          "text": [
            "4444\n"
          ]
        }
      ]
    },
    {
      "cell_type": "code",
      "source": [
        "def sum3(a,b,c):\n",
        "  #sum2=sum3(a,b)\n",
        "  #sum= sum3(sum2, c)\n",
        "  print(a+b+c)"
      ],
      "metadata": {
        "id": "4U0Kerg2jSzS"
      },
      "execution_count": null,
      "outputs": []
    },
    {
      "cell_type": "code",
      "source": [
        "Sum=sum3(100,1001,1201)\n"
      ],
      "metadata": {
        "colab": {
          "base_uri": "https://localhost:8080/"
        },
        "id": "qPATF9wSjSwq",
        "outputId": "e2f8bc5d-d28f-4da1-a406-bcd0e666656c"
      },
      "execution_count": null,
      "outputs": [
        {
          "output_type": "stream",
          "name": "stdout",
          "text": [
            "2302\n"
          ]
        }
      ]
    },
    {
      "cell_type": "code",
      "source": [
        "def price_of_the_pens():\n",
        "  a = 10\n",
        "  b = 5\n",
        "  c = 99\n",
        "  print(f\" Red pen is {a} Taka\", \" Blue pen is {b} taka\", \" Green pen is{c} taka\")"
      ],
      "metadata": {
        "id": "WS4yRe4RjStr"
      },
      "execution_count": null,
      "outputs": []
    },
    {
      "cell_type": "code",
      "source": [
        "price_of_the_pens()"
      ],
      "metadata": {
        "colab": {
          "base_uri": "https://localhost:8080/"
        },
        "id": "TcWEavKFk49r",
        "outputId": "f259d020-9784-4862-92c7-c6c4d8bd03bc"
      },
      "execution_count": null,
      "outputs": [
        {
          "output_type": "stream",
          "name": "stdout",
          "text": [
            " Red pen is 10 Taka  Blue pen is {b} taka  Green pen is{c} taka\n"
          ]
        }
      ]
    },
    {
      "cell_type": "code",
      "source": [
        "def names():\n",
        "  Me = \"Naeem loves\"\n",
        "  Another= \"his phones\"\n",
        "  print(Me, Another)\n"
      ],
      "metadata": {
        "id": "_8NX15Y5k47D"
      },
      "execution_count": null,
      "outputs": []
    },
    {
      "cell_type": "code",
      "source": [
        "names()"
      ],
      "metadata": {
        "colab": {
          "base_uri": "https://localhost:8080/"
        },
        "id": "e16sPuTok44b",
        "outputId": "3f2e79a5-f121-4b5e-f3ea-03036a2cff6e"
      },
      "execution_count": null,
      "outputs": [
        {
          "output_type": "stream",
          "name": "stdout",
          "text": [
            "Naeem loves his phones\n"
          ]
        }
      ]
    },
    {
      "cell_type": "code",
      "source": [
        "def sum(a,b):\n",
        "  print(a+b)\n",
        "  total = a+b\n",
        "  print(f\"Total = {total}\")\n",
        "  return (a+b)"
      ],
      "metadata": {
        "id": "4j-iNyJlzVBy"
      },
      "execution_count": null,
      "outputs": []
    },
    {
      "cell_type": "code",
      "source": [
        "sum(3,3265)"
      ],
      "metadata": {
        "colab": {
          "base_uri": "https://localhost:8080/"
        },
        "id": "-ePqXHvLzU-p",
        "outputId": "5f0e3204-a72f-4eb9-c360-b21572db2967"
      },
      "execution_count": null,
      "outputs": [
        {
          "output_type": "stream",
          "name": "stdout",
          "text": [
            "3268\n"
          ]
        },
        {
          "output_type": "execute_result",
          "data": {
            "text/plain": [
              "3268"
            ]
          },
          "metadata": {},
          "execution_count": 175
        }
      ]
    },
    {
      "cell_type": "code",
      "source": [
        "return_val = sum(8,3)\n",
        "print(\"return_val is\", return_val)"
      ],
      "metadata": {
        "colab": {
          "base_uri": "https://localhost:8080/"
        },
        "id": "CeYyLm6azU7h",
        "outputId": "db8d674e-4e78-443a-ac40-e19c661c640c"
      },
      "execution_count": null,
      "outputs": [
        {
          "output_type": "stream",
          "name": "stdout",
          "text": [
            "11\n",
            "Total = 11\n",
            "return_val is 11\n"
          ]
        }
      ]
    },
    {
      "cell_type": "code",
      "source": [
        "def sum_with_pi(a):\n",
        "  c =a + pi\n",
        "  print(f\"c = {c}\")"
      ],
      "metadata": {
        "id": "qKLITU4rzV8r"
      },
      "execution_count": null,
      "outputs": []
    },
    {
      "cell_type": "code",
      "source": [
        "pi = 3.1416\n",
        "sum_with_pi(100)"
      ],
      "metadata": {
        "colab": {
          "base_uri": "https://localhost:8080/"
        },
        "id": "JuiGnYld3aLa",
        "outputId": "7d50ce5f-305b-4703-881f-018bac7b3986"
      },
      "execution_count": null,
      "outputs": [
        {
          "output_type": "stream",
          "name": "stdout",
          "text": [
            "c = 103.1416\n"
          ]
        }
      ]
    },
    {
      "cell_type": "code",
      "source": [],
      "metadata": {
        "id": "SAxA-kUG8_Tc"
      },
      "execution_count": null,
      "outputs": []
    },
    {
      "cell_type": "code",
      "source": [
        "def sum_of_range():\n",
        "  sumofodds = 0\n",
        "  for number in range(0,1000):\n",
        "    if number % 2 !=  0:\n",
        "      sumofodds += number\n",
        "      return(sumofodds)"
      ],
      "metadata": {
        "id": "e3FbNUIO3aH6"
      },
      "execution_count": null,
      "outputs": []
    },
    {
      "cell_type": "code",
      "source": [
        "sum_of_range()"
      ],
      "metadata": {
        "colab": {
          "base_uri": "https://localhost:8080/"
        },
        "id": "SPcJhfyD3aAL",
        "outputId": "7eb8755e-6d7c-4cac-e2dd-04d7447cc408"
      },
      "execution_count": null,
      "outputs": [
        {
          "output_type": "execute_result",
          "data": {
            "text/plain": [
              "1"
            ]
          },
          "metadata": {},
          "execution_count": 247
        }
      ]
    },
    {
      "cell_type": "code",
      "source": [
        "def addition(a, b):\n",
        "\ta= 3\n",
        "\tb= 5\n",
        "\treturn(a+b)"
      ],
      "metadata": {
        "id": "CB5IFhnQzV5x"
      },
      "execution_count": null,
      "outputs": []
    },
    {
      "cell_type": "code",
      "source": [
        "addition(a, b)"
      ],
      "metadata": {
        "colab": {
          "base_uri": "https://localhost:8080/"
        },
        "id": "MWfoJXh9-yk1",
        "outputId": "3c9ecaab-d69a-47b0-8a41-9026892bc7bb"
      },
      "execution_count": null,
      "outputs": [
        {
          "output_type": "execute_result",
          "data": {
            "text/plain": [
              "8"
            ]
          },
          "metadata": {},
          "execution_count": 237
        }
      ]
    },
    {
      "cell_type": "markdown",
      "source": [
        "**Assignment**"
      ],
      "metadata": {
        "id": "26fVvbkOirJS"
      }
    },
    {
      "cell_type": "code",
      "source": [
        "'''Sum of Odd Numbers from 1 to 1000. range should be 1 to 1001.'''\n",
        "\n",
        "\n",
        "def sum_of_odd_numbers(a):\n",
        "    sum = 0\n",
        "    for number in range(1, a+1):\n",
        "        if number % 2 != 0:\n",
        "            sum += number\n",
        "    return sum"
      ],
      "metadata": {
        "id": "nUhpnB4dfCyx"
      },
      "execution_count": null,
      "outputs": []
    },
    {
      "cell_type": "code",
      "source": [
        "result = sum_of_odd_numbers(1000)\n",
        "print(f\"The sum of odd numbers from 1 to 1000 is: {result}\")"
      ],
      "metadata": {
        "colab": {
          "base_uri": "https://localhost:8080/"
        },
        "id": "a-AaXBILfCvp",
        "outputId": "2802a492-7b50-4a14-8873-d70070806555"
      },
      "execution_count": null,
      "outputs": [
        {
          "output_type": "stream",
          "name": "stdout",
          "text": [
            "The sum of odd numbers from 1 to 1000 is: 250000\n"
          ]
        }
      ]
    },
    {
      "cell_type": "code",
      "source": [],
      "metadata": {
        "id": "v5z47w4V7z5w"
      },
      "execution_count": null,
      "outputs": []
    },
    {
      "cell_type": "code",
      "source": [
        "'''Sum of even Numbers from 1 to 1000. range should be 1 to 1001.'''\n",
        "\n",
        "\n",
        "def sum_of_even_numbers(a,b):\n",
        "    sum = 0\n",
        "    for number in range(a, b+1):\n",
        "        if number % 2 == 0:\n",
        "            sum += number\n",
        "    return sum"
      ],
      "metadata": {
        "id": "j3R1Q6VyfCpw"
      },
      "execution_count": null,
      "outputs": []
    },
    {
      "cell_type": "code",
      "source": [
        "result = sum_of_even_numbers(1,10)\n",
        "print(f\"The sum of even numbers from 1  to 1000 is: {result}\")"
      ],
      "metadata": {
        "colab": {
          "base_uri": "https://localhost:8080/"
        },
        "id": "H35grqUJfCmH",
        "outputId": "444e09ac-471e-4ac6-cad7-3dd60fd43c40"
      },
      "execution_count": null,
      "outputs": [
        {
          "output_type": "stream",
          "name": "stdout",
          "text": [
            "The sum of even numbers from 1  to 1000 is: 250500\n"
          ]
        }
      ]
    },
    {
      "cell_type": "code",
      "source": [],
      "metadata": {
        "id": "-DZfs35R7y9Q"
      },
      "execution_count": null,
      "outputs": []
    },
    {
      "cell_type": "code",
      "source": [
        "'''Sum of the Numbers from 1 to 1000. range should be 1 to 1001.'''\n",
        "\n",
        "def sum_of_the_numbers(a):\n",
        "    sum = 0\n",
        "    for number in range(1, a+1):\n",
        "            sum += number\n",
        "    return sum"
      ],
      "metadata": {
        "id": "Y089cId9fCil"
      },
      "execution_count": null,
      "outputs": []
    },
    {
      "cell_type": "code",
      "source": [
        "result = sum_of_the_numbers(1000)\n",
        "print(f\"The sum of the numbers from 1 to 1000  is: {result}\")"
      ],
      "metadata": {
        "colab": {
          "base_uri": "https://localhost:8080/"
        },
        "id": "_6_YVcI-jWpa",
        "outputId": "34cf56ee-4a18-4185-de84-bce85eb57178"
      },
      "execution_count": null,
      "outputs": [
        {
          "output_type": "stream",
          "name": "stdout",
          "text": [
            "The sum of the numbers from 1 to 1000  is: 500500\n"
          ]
        }
      ]
    },
    {
      "cell_type": "code",
      "source": [
        "sum = 0\n",
        "for i in range(2,1000,2):\n",
        "  sum += i\n",
        "print (sum)"
      ],
      "metadata": {
        "colab": {
          "base_uri": "https://localhost:8080/"
        },
        "id": "ZV64ZwUn5n9f",
        "outputId": "534b9339-1857-4bc7-e2d1-2e317aa9202b"
      },
      "execution_count": null,
      "outputs": [
        {
          "output_type": "stream",
          "name": "stdout",
          "text": [
            "249500\n"
          ]
        }
      ]
    },
    {
      "cell_type": "markdown",
      "source": [
        "divide"
      ],
      "metadata": {
        "id": "lE0mW_1JB3dV"
      }
    },
    {
      "cell_type": "code",
      "source": [
        "def divide(a, b):\n",
        "  #divident = a\n",
        "  #divisor = b\n",
        "  if a % b == 0:\n",
        "    print(\"divisible\")\n",
        "  else:\n",
        "    print(\"not divisible\")"
      ],
      "metadata": {
        "id": "veAXgANQ_vTv"
      },
      "execution_count": null,
      "outputs": []
    },
    {
      "cell_type": "code",
      "source": [
        " divide(6,2)"
      ],
      "metadata": {
        "colab": {
          "base_uri": "https://localhost:8080/"
        },
        "id": "SbG3GwpM_vQv",
        "outputId": "72fe67b6-7dc1-4a13-f601-bc557269525d"
      },
      "execution_count": null,
      "outputs": [
        {
          "output_type": "stream",
          "name": "stdout",
          "text": [
            "divisible\n"
          ]
        }
      ]
    },
    {
      "cell_type": "markdown",
      "source": [
        "**Cartesian distance**"
      ],
      "metadata": {
        "id": "ZuaClF_mPsCe"
      }
    },
    {
      "cell_type": "code",
      "source": [
        "def val_of_var(X1,Y1,X2,Y2):\n",
        "  import math\n",
        "  DelX= X2-X1\n",
        "  DelY= Y2-Y1\n",
        "\n",
        "  Distance = math.sqrt(DelX**2+DelY**2)\n",
        "  print (f\" Distance between the points is\", Distance)"
      ],
      "metadata": {
        "id": "kFFv8WAr_vN3"
      },
      "execution_count": null,
      "outputs": []
    },
    {
      "cell_type": "code",
      "source": [
        "val_of_var(4,5,6,8)"
      ],
      "metadata": {
        "colab": {
          "base_uri": "https://localhost:8080/"
        },
        "id": "0ii_IwS-_vK4",
        "outputId": "095c0227-fba9-4be9-9198-28373c41e3fa"
      },
      "execution_count": null,
      "outputs": [
        {
          "output_type": "stream",
          "name": "stdout",
          "text": [
            " Distance between the points is 3.605551275463989\n"
          ]
        }
      ]
    },
    {
      "cell_type": "code",
      "source": [
        "def factorial_of(a):\n",
        "  import math\n",
        "  if a == 0 or a == 1:\n",
        "    return 1\n",
        "  else:\n",
        "    return a*factorial(a-1)"
      ],
      "metadata": {
        "id": "WntNdSgo_vIP"
      },
      "execution_count": null,
      "outputs": []
    },
    {
      "cell_type": "code",
      "source": [
        "factorial_of (10)"
      ],
      "metadata": {
        "colab": {
          "base_uri": "https://localhost:8080/"
        },
        "id": "wveviKURQ053",
        "outputId": "f5c9813f-a56c-4819-b6e4-ac86093567b0"
      },
      "execution_count": null,
      "outputs": [
        {
          "output_type": "execute_result",
          "data": {
            "text/plain": [
              "10"
            ]
          },
          "metadata": {},
          "execution_count": 180
        }
      ]
    },
    {
      "cell_type": "code",
      "source": [
        "for i in range (1,7):\n",
        "  print(i)\n",
        "  if i % 2 == 0:\n",
        "    print (\" it is even\")"
      ],
      "metadata": {
        "colab": {
          "base_uri": "https://localhost:8080/"
        },
        "id": "SdLGNunfUxRy",
        "outputId": "5918b290-05c5-493f-a8eb-e134cb8c2440"
      },
      "execution_count": null,
      "outputs": [
        {
          "output_type": "stream",
          "name": "stdout",
          "text": [
            "1\n",
            "2\n",
            " it is even\n",
            "3\n",
            "4\n",
            " it is even\n",
            "5\n",
            "6\n",
            " it is even\n"
          ]
        }
      ]
    },
    {
      "cell_type": "code",
      "source": [
        "# 5! = 5*4*3*2*1\n",
        "def factorial (a):\n",
        "  factorial_val = 1\n",
        "  for i in range(1,a+1):\n",
        "    factorial_val *= i\n",
        "  return factorial_val\n"
      ],
      "metadata": {
        "id": "mLOcGQhnUxOz"
      },
      "execution_count": null,
      "outputs": []
    },
    {
      "cell_type": "code",
      "source": [
        "factorial (5)"
      ],
      "metadata": {
        "colab": {
          "base_uri": "https://localhost:8080/"
        },
        "id": "J7aLAze6UxLr",
        "outputId": "115d819d-afba-46b6-83d0-26eb8740534e"
      },
      "execution_count": null,
      "outputs": [
        {
          "output_type": "execute_result",
          "data": {
            "text/plain": [
              "120"
            ]
          },
          "metadata": {},
          "execution_count": 8
        }
      ]
    },
    {
      "cell_type": "markdown",
      "source": [
        "import tkinter as tk\n",
        "\n",
        "def add(x, y):\n",
        "    \"\"\"Add two numbers\"\"\"\n",
        "    return x + y\n",
        "\n",
        "def subtract(x, y):\n",
        "    \"\"\"Subtract two numbers\"\"\"\n",
        "    return x - y\n",
        "\n",
        "def multiply(x, y):\n",
        "    \"\"\"Multiply two numbers\"\"\"\n",
        "    return x * y\n",
        "\n",
        "def divide(x, y):\n",
        "    \"\"\"Divide two numbers\"\"\"\n",
        "    if y == 0:\n",
        "        return \"Error! Division by zero.\"\n",
        "    return x / y\n",
        "\n",
        "def calculate():\n",
        "    operation = operation_var.get()\n",
        "    num1 = float(num1_entry.get())\n",
        "    num2 = float(num2_entry.get())\n",
        "    \n",
        "    if operation == \"Add\":\n",
        "        result.set(add(num1, num2))\n",
        "    elif operation == \"Subtract\":\n",
        "        result.set(subtract(num1, num2))\n",
        "    elif operation == \"Multiply\":\n",
        "        result.set(multiply(num1, num2))\n",
        "    elif operation == \"Divide\":\n",
        "        result.set(divide(num1, num2))\n",
        "\n",
        "# Create the main window\n",
        "root = tk.Tk()\n",
        "root.title(\"Simple Calculator App\")\n",
        "\n",
        "# Input fields\n",
        "num1_label = tk.Label(root, text=\"Enter first number:\")\n",
        "num1_label.grid(row=0, column=0, padx=5, pady=5)\n",
        "num1_entry = tk.Entry(root)\n",
        "num1_entry.grid(row=0, column=1, padx=5, pady=5)\n",
        "\n",
        "num2_label = tk.Label(root, text=\"Enter second number:\")\n",
        "num2_label.grid(row=1, column=0, padx=5, pady=5)\n",
        "num2_entry = tk.Entry(root)\n",
        "num2_entry.grid(row=1, column=1, padx=5, pady=5)\n",
        "\n",
        "# Operation selection\n",
        "operation_var = tk.StringVar()\n",
        "operation_var.set(\"Add\")  # Default operation\n",
        "operation_label = tk.Label(root, text=\"Select operation:\")\n",
        "operation_label.grid(row=2, column=0, padx=5, pady=5)\n",
        "operation_menu = tk.OptionMenu(root, operation_var, \"Add\", \"Subtract\", \"Multiply\", \"Divide\")\n",
        "operation_menu.grid(row=2, column=1, padx=5, pady=5)\n",
        "\n",
        "# Button to perform calculation\n",
        "calculate_button = tk.Button(root, text=\"Calculate\", command=calculate)\n",
        "calculate_button.grid(row=3, column=0, columnspan=2, padx=5, pady=5)\n",
        "\n",
        "# Result display\n",
        "result = tk.StringVar()\n",
        "result_label = tk.Label(root, text=\"Result:\")\n",
        "result_label.grid(row=4, column=0, padx=5, pady=5)\n",
        "result_entry = tk.Entry(root, textvariable=result, state=\"readonly\")\n",
        "result_entry.grid(row=4, column=1, padx=5, pady=5)\n",
        "\n",
        "# Run the main event loop\n",
        "root.mainloop()\n"
      ],
      "metadata": {
        "id": "qENWck-tyYcF"
      }
    },
    {
      "cell_type": "code",
      "source": [],
      "metadata": {
        "id": "Vv0TGyDLyYG3"
      },
      "execution_count": null,
      "outputs": []
    },
    {
      "cell_type": "code",
      "source": [
        "i = 0\n",
        "while i < 5:\n",
        "  print(i)\n",
        "  i+= 1"
      ],
      "metadata": {
        "colab": {
          "base_uri": "https://localhost:8080/"
        },
        "id": "PV1yYY9AaTsg",
        "outputId": "b6600f56-f0bf-4e07-9fec-f3949520cd56"
      },
      "execution_count": null,
      "outputs": [
        {
          "output_type": "stream",
          "name": "stdout",
          "text": [
            "0\n",
            "1\n",
            "2\n",
            "3\n",
            "4\n"
          ]
        }
      ]
    },
    {
      "cell_type": "code",
      "source": [
        "num = (input(\"enter a number: \"))\n",
        "\n",
        "fac = 1\n",
        "i = 1\n",
        "\n",
        "while i <= num:\n",
        "  fac = fac * i\n",
        "  i = i + 1\n",
        "\n",
        "print(\"factorial of \", num, \" is \", fac)"
      ],
      "metadata": {
        "id": "mgWqFYnaaTpo",
        "colab": {
          "base_uri": "https://localhost:8080/"
        },
        "outputId": "40e4327e-43ed-4ec6-f920-e8097ba23934"
      },
      "execution_count": null,
      "outputs": [
        {
          "output_type": "stream",
          "name": "stdout",
          "text": [
            "enter a number: 6\n",
            "factorial of  6  is  720\n"
          ]
        }
      ]
    },
    {
      "cell_type": "code",
      "source": [],
      "metadata": {
        "id": "re_yEFt_aTm_"
      },
      "execution_count": null,
      "outputs": []
    },
    {
      "cell_type": "code",
      "source": [
        "num_list =  [124, 215, 215, 245, 545, 325, 658,354, 245, 526, 985, 658, 369, 789, 658, 415, 785, 965, 265, 124, 215, 215, 245, 545, 325, 658, 354, 245, 526, 985, 658, 369, 789, 658, 415, 785, 965, 265,\n",
        "124, 215, 215, 245, 545, 325, 658, 354,245, 526, 985, 658, 369, 789, 658, 415, 785, 965, 265, 124, 215, 215, 245, 545, 325, 658, 354, 245, 526, 985, 658, 369, 789, 658, 415, 785, 965, 265, ]\n",
        "num = 545\n",
        "index_of_num = find_index(num_list, num)\n",
        "if index_of_num !=-1:\n",
        "    print ({index_of_element})\n",
        "else:\n",
        "   print('not found')\n",
        "\n"
      ],
      "metadata": {
        "id": "34aNEAq1aViN"
      },
      "execution_count": null,
      "outputs": []
    },
    {
      "cell_type": "code",
      "source": [
        "num_list =  [ 245, 545, 325, 658, 354, 245, 526, 985, 658, 369, 789, 658, 415, 785, 965, 265, 245, 545, 325, 658, 354,245, 545, 325, 658, 354, 245, 526, 985, 658, 369, 789, 658, 415, 785, 965, 265, 245, 526, 985, 658, 369, 789, 658, 415, 785, 965, 265,]"
      ],
      "metadata": {
        "id": "tiIuc25iaVeI"
      },
      "execution_count": null,
      "outputs": []
    },
    {
      "cell_type": "code",
      "source": [
        "#task 1\n",
        "def find_num_index(search_num):\n",
        "  index = 0\n",
        "  for num in num_list:\n",
        "    if num == search_num:\n",
        "      print(f\"{search_num} index in the list: {index}\")\n",
        "      #print(index)\n",
        "      #break\n",
        "      #continue\n",
        "    index +=1\n"
      ],
      "metadata": {
        "id": "FnXeOKfbePft"
      },
      "execution_count": null,
      "outputs": []
    },
    {
      "cell_type": "code",
      "source": [
        "find_num_index(545)"
      ],
      "metadata": {
        "colab": {
          "base_uri": "https://localhost:8080/"
        },
        "id": "leooMoQlfmEb",
        "outputId": "87ebc893-7373-4e44-f774-fe92da46e73d"
      },
      "execution_count": null,
      "outputs": [
        {
          "output_type": "stream",
          "name": "stdout",
          "text": [
            "545 index in the list: 1\n",
            "545 index in the list: 17\n",
            "545 index in the list: 22\n"
          ]
        }
      ]
    },
    {
      "cell_type": "code",
      "source": [
        "for i in range(10,16):\n",
        "  print(i)\n",
        "  #break\n",
        "  for i in range (5):\n",
        "    print (i)\n",
        "    break\n",
        "  break"
      ],
      "metadata": {
        "colab": {
          "base_uri": "https://localhost:8080/"
        },
        "id": "zBXhROW6fmBT",
        "outputId": "57b5e7f5-5d8b-472e-bf8e-3d229b344683"
      },
      "execution_count": null,
      "outputs": [
        {
          "output_type": "stream",
          "name": "stdout",
          "text": [
            "10\n",
            "0\n"
          ]
        }
      ]
    },
    {
      "cell_type": "code",
      "source": [
        "num_list =  [ 245, 545, 325, 658, 354, 245, 526, 985, 658, 369, 789, 658, 415, 785, 965, 265, 245, 545, 325, 658, 354,245, 545, 325, 658, 354, 245, 526, 985, 658, 369, 789, 658, 415, 785, 965, 265, 245, 526, 985, 658, 369, 789, 658, 415, 785, 965, 265,]\n",
        "print(*num_list)"
      ],
      "metadata": {
        "id": "I4hGarq90PQz",
        "colab": {
          "base_uri": "https://localhost:8080/"
        },
        "outputId": "8ee04f81-63e1-4644-968d-42c249adaa23"
      },
      "execution_count": null,
      "outputs": [
        {
          "output_type": "stream",
          "name": "stdout",
          "text": [
            "245 545 325 658 354 245 526 985 658 369 789 658 415 785 965 265 245 545 325 658 354 245 545 325 658 354 245 526 985 658 369 789 658 415 785 965 265 245 526 985 658 369 789 658 415 785 965 265\n"
          ]
        }
      ]
    },
    {
      "cell_type": "code",
      "source": [
        "#task 2\n",
        "\n",
        "num_list = range(2,10)\n",
        "print(*num_list)\n",
        "\n",
        "def count_odd_num():\n",
        "  count = 0\n",
        "  for num in num_list:\n",
        "    print(num)\n",
        "    if num % 2 ==0:\n",
        "      print(\"Before continue\")\n",
        "      continue\n",
        "      print(\"After continue\")\n",
        "\n",
        "    print(\"Outside if clause\")\n",
        "    count +=1\n",
        "  return count\n",
        "count = count_odd_num()\n"
      ],
      "metadata": {
        "colab": {
          "base_uri": "https://localhost:8080/"
        },
        "id": "Soc43ZkpziRX",
        "outputId": "3e761fe5-2a38-40e4-8b35-5e38223514cf"
      },
      "execution_count": null,
      "outputs": [
        {
          "output_type": "stream",
          "name": "stdout",
          "text": [
            "2 3 4 5 6 7 8 9\n",
            "2\n",
            "Before continue\n",
            "3\n",
            "Outside if clause\n",
            "4\n",
            "Before continue\n",
            "5\n",
            "Outside if clause\n",
            "6\n",
            "Before continue\n",
            "7\n",
            "Outside if clause\n",
            "8\n",
            "Before continue\n",
            "9\n",
            "Outside if clause\n"
          ]
        }
      ]
    },
    {
      "cell_type": "code",
      "source": [
        "def add(x, y):\n",
        "    return x + y\n",
        "\n",
        "def subtract(x, y):\n",
        "    return x - y\n",
        "\n",
        "def multiply(x, y):\n",
        "    return x * y\n",
        "\n",
        "def divide(x, y):\n",
        "    if y == 0:\n",
        "        return \"Error! Division by zero.\"\n",
        "    return x / y\n",
        "\n",
        "def calculator():\n",
        "    print(\"what do you want to do?\")\n",
        "    print(\"1. Add (+)\")\n",
        "    print(\"2. Subtract (-)\")\n",
        "    print(\"3. Multiply (*)\")\n",
        "    print(\"4. Divide (/)\")\n",
        "\n",
        "    while True:\n",
        "        choice = input(\"Enter choice (1/2/3/4): \")\n",
        "\n",
        "        if choice in ['1', '2', '3', '4']:\n",
        "            try:\n",
        "                num1 = float(input(\"Enter first number: \"))\n",
        "                num2 = float(input(\"Enter second number: \"))\n",
        "            except ValueError:\n",
        "                print(\"Invalid input! Please enter a number.\")\n",
        "                continue\n",
        "\n",
        "            if choice == '1':\n",
        "                print(f\"{num1} + {num2} = {add(num1, num2)}\")\n",
        "            elif choice == '2':\n",
        "                print(f\"{num1} - {num2} = {subtract(num1, num2)}\")\n",
        "            elif choice == '3':\n",
        "                print(f\"{num1} * {num2} = {multiply(num1, num2)}\")\n",
        "            elif choice == '4':\n",
        "                result = divide(num1, num2)\n",
        "                print(f\"{num1} / {num2} = {result}\")\n",
        "        else:\n",
        "            print(\"Invalid Input\")\n",
        "\n",
        "        next_calculation = input(\"Do you want to perform another calculation? (yes/no): \")\n",
        "        if next_calculation.lower() != 'yes':\n",
        "            break\n",
        "calculator()"
      ],
      "metadata": {
        "id": "WEn8CbhLziPN",
        "colab": {
          "base_uri": "https://localhost:8080/"
        },
        "outputId": "f804550a-fc2d-4d31-810d-0684e5807a4f"
      },
      "execution_count": null,
      "outputs": [
        {
          "name": "stdout",
          "output_type": "stream",
          "text": [
            "what do you want to do?\n",
            "1. Add (+)\n",
            "2. Subtract (-)\n",
            "3. Multiply (*)\n",
            "4. Divide (/)\n",
            "Enter choice (1/2/3/4): 2\n",
            "Enter first number: 23\n",
            "Enter second number: 23\n",
            "23.0 - 23.0 = 0.0\n",
            "Do you want to perform another calculation? (yes/no): 3\n"
          ]
        }
      ]
    },
    {
      "cell_type": "code",
      "source": [
        "my_dict = dict( name = 'Naeem', age = '24', birth_place ='Pabna')\n",
        "print(my_dict)"
      ],
      "metadata": {
        "id": "bkCvZ_z8ziMM",
        "colab": {
          "base_uri": "https://localhost:8080/"
        },
        "outputId": "59c006d0-2c93-47f0-c422-a7ddb11eed26"
      },
      "execution_count": null,
      "outputs": [
        {
          "output_type": "stream",
          "name": "stdout",
          "text": [
            "{'name': 'Naeem', 'age': '24', 'birth_place': 'Pabna'}\n"
          ]
        }
      ]
    },
    {
      "cell_type": "code",
      "source": [
        "print(my_dict['name'])"
      ],
      "metadata": {
        "id": "Cvj-ESRIziJk",
        "colab": {
          "base_uri": "https://localhost:8080/"
        },
        "outputId": "9c2f126f-35b3-4386-a17c-901e84ccc0f3"
      },
      "execution_count": null,
      "outputs": [
        {
          "output_type": "stream",
          "name": "stdout",
          "text": [
            "Naeem\n"
          ]
        }
      ]
    },
    {
      "cell_type": "code",
      "source": [
        "name = my_dict.get('name', 'Nothing is found using the search key')\n",
        "print(name)"
      ],
      "metadata": {
        "colab": {
          "base_uri": "https://localhost:8080/"
        },
        "id": "uO1yYx37yhSr",
        "outputId": "eb751708-9018-4cc6-904c-382ed068672e"
      },
      "execution_count": null,
      "outputs": [
        {
          "output_type": "stream",
          "name": "stdout",
          "text": [
            "Nothing is found using the search key\n"
          ]
        }
      ]
    },
    {
      "cell_type": "code",
      "source": [
        "name = my_dict.get('nam', 'Nothing is found using the search key')\n",
        "print(name)"
      ],
      "metadata": {
        "colab": {
          "base_uri": "https://localhost:8080/"
        },
        "id": "AlL0ZkLYyhQT",
        "outputId": "1a602685-0571-4411-83bc-6efedfbbee93"
      },
      "execution_count": null,
      "outputs": [
        {
          "output_type": "stream",
          "name": "stdout",
          "text": [
            "Nothing is found using the search key\n"
          ]
        }
      ]
    },
    {
      "cell_type": "code",
      "source": [
        "my_dict['age'] = 25\n",
        "print(my_dict)"
      ],
      "metadata": {
        "colab": {
          "base_uri": "https://localhost:8080/"
        },
        "id": "Dsth7W8_yzqc",
        "outputId": "0abe08f3-aaf9-4180-88e6-249e00fb0d2f"
      },
      "execution_count": null,
      "outputs": [
        {
          "output_type": "stream",
          "name": "stdout",
          "text": [
            "{'name': 'Naeem', 'age': 25, 'birth_place': 'Pabna', 'no_of_students': '25'}\n"
          ]
        }
      ]
    },
    {
      "cell_type": "code",
      "source": [
        "my_dict['no_of_students'] = 25\n",
        "print(my_dict)"
      ],
      "metadata": {
        "colab": {
          "base_uri": "https://localhost:8080/"
        },
        "id": "zB8RLLKByznr",
        "outputId": "eb571aa0-147e-48f7-d26c-fb1b332b8f4e"
      },
      "execution_count": null,
      "outputs": [
        {
          "output_type": "stream",
          "name": "stdout",
          "text": [
            "{'name': 'Naeem', 'age': 25, 'birth_place': 'Pabna', 'no_of_students': 25}\n"
          ]
        }
      ]
    },
    {
      "cell_type": "code",
      "source": [
        "my_dict.pop('age')\n",
        "print(my_dict)"
      ],
      "metadata": {
        "colab": {
          "base_uri": "https://localhost:8080/"
        },
        "id": "wszlZW_Xyzk8",
        "outputId": "843bf6b2-6f39-4a1b-9959-9374db851d57"
      },
      "execution_count": null,
      "outputs": [
        {
          "output_type": "stream",
          "name": "stdout",
          "text": [
            "{'name': 'Naeem', 'birth_place': 'Pabna', 'no_of_students': 25}\n"
          ]
        }
      ]
    },
    {
      "cell_type": "code",
      "source": [
        "print(my_dict)"
      ],
      "metadata": {
        "colab": {
          "base_uri": "https://localhost:8080/"
        },
        "id": "YOLpNK3Nyzis",
        "outputId": "b54779b9-accc-4ba9-927f-614845d9a77b"
      },
      "execution_count": null,
      "outputs": [
        {
          "output_type": "stream",
          "name": "stdout",
          "text": [
            "{'name': 'Naeem', 'birth_place': 'Pabna', 'no_of_students': 25}\n"
          ]
        }
      ]
    },
    {
      "cell_type": "code",
      "source": [
        "keys = my_dict.keys()\n",
        "print(keys)\n",
        "values = my_dict.values()\n",
        "print(values)\n",
        "item = my_dict.items()\n",
        "print(item)"
      ],
      "metadata": {
        "colab": {
          "base_uri": "https://localhost:8080/"
        },
        "id": "WyZQSz8wyhN8",
        "outputId": "a9422277-b945-49b6-bebb-9dca17daa9b6"
      },
      "execution_count": null,
      "outputs": [
        {
          "output_type": "stream",
          "name": "stdout",
          "text": [
            "dict_keys(['name', 'birth_place', 'no_of_students'])\n",
            "dict_values(['Naeem', 'Pabna', 25])\n",
            "dict_items([('name', 'Naeem'), ('birth_place', 'Pabna'), ('no_of_students', 25)])\n"
          ]
        }
      ]
    },
    {
      "cell_type": "code",
      "source": [
        "for value in my_dict.values():\n",
        "  print(f\"{value}\")\n"
      ],
      "metadata": {
        "id": "6EouKzp91YFl",
        "colab": {
          "base_uri": "https://localhost:8080/"
        },
        "outputId": "e7410293-7cdf-45e9-a052-edee101ec950"
      },
      "execution_count": null,
      "outputs": [
        {
          "output_type": "stream",
          "name": "stdout",
          "text": [
            "Naeem\n",
            "Pabna\n",
            "25\n"
          ]
        }
      ]
    },
    {
      "cell_type": "code",
      "source": [],
      "metadata": {
        "id": "Dh-8lZCQ1YDU"
      },
      "execution_count": null,
      "outputs": []
    },
    {
      "cell_type": "code",
      "source": [],
      "metadata": {
        "id": "hDBuxNTq1YAc"
      },
      "execution_count": null,
      "outputs": []
    },
    {
      "cell_type": "code",
      "source": [
        "def main():\n",
        "    num_students = int(input(\"Enter the number of students: \"))\n",
        "\n",
        "    students = []\n",
        "\n",
        "    for i in range(1, num_students + 1):\n",
        "        name = input(f\"Enter the name of student {i}: \")\n",
        "        grades = input(f\"Enter the grades for {name} (separated by spaces): \").split()\n",
        "        grades = list(map(float, grades))\n",
        "\n",
        "        average_grade = sum(grades) / len(grades)\n",
        "        highest_grade = max(grades)\n",
        "        lowest_grade = min(grades)\n",
        "\n",
        "        status = \"Pass\" if average_grade >= 60 else \"Fail\"\n",
        "\n",
        "        student_info = {\n",
        "            \"name\": name,\n",
        "            \"average_grade\": average_grade,\n",
        "            \"status\": status,\n",
        "            \"highest_grade\": highest_grade,\n",
        "            \"lowest_grade\": lowest_grade\n",
        "        }\n",
        "\n",
        "        students.append(student_info)\n",
        "\n",
        "    for student in students:\n",
        "        print(f\"\\nStudent: {student['name']}\")\n",
        "        print(f\"Average Grade: {student['average_grade']:.2f}\")\n",
        "        print(f\"Status: {student['status']}\")\n",
        "        print(f\"Highest Grade: {student['highest_grade']}\")\n",
        "        print(f\"Lowest Grade: {student['lowest_grade']}\")\n",
        "\n",
        "if __name__ == \"__main__\":\n",
        "    main()\n"
      ],
      "metadata": {
        "colab": {
          "base_uri": "https://localhost:8080/",
          "height": 315
        },
        "id": "tKQyWu6C1X9T",
        "outputId": "3be470d1-e21d-46cf-b7bc-d2aa33bc1c67"
      },
      "execution_count": null,
      "outputs": [
        {
          "name": "stdout",
          "output_type": "stream",
          "text": [
            "Enter the number of students: n\n"
          ]
        },
        {
          "output_type": "error",
          "ename": "ValueError",
          "evalue": "invalid literal for int() with base 10: 'n'",
          "traceback": [
            "\u001b[0;31m---------------------------------------------------------------------------\u001b[0m",
            "\u001b[0;31mValueError\u001b[0m                                Traceback (most recent call last)",
            "\u001b[0;32m<ipython-input-29-1369504c137b>\u001b[0m in \u001b[0;36m<cell line: 34>\u001b[0;34m()\u001b[0m\n\u001b[1;32m     33\u001b[0m \u001b[0;34m\u001b[0m\u001b[0m\n\u001b[1;32m     34\u001b[0m \u001b[0;32mif\u001b[0m \u001b[0m__name__\u001b[0m \u001b[0;34m==\u001b[0m \u001b[0;34m\"__main__\"\u001b[0m\u001b[0;34m:\u001b[0m\u001b[0;34m\u001b[0m\u001b[0;34m\u001b[0m\u001b[0m\n\u001b[0;32m---> 35\u001b[0;31m     \u001b[0mmain\u001b[0m\u001b[0;34m(\u001b[0m\u001b[0;34m)\u001b[0m\u001b[0;34m\u001b[0m\u001b[0;34m\u001b[0m\u001b[0m\n\u001b[0m",
            "\u001b[0;32m<ipython-input-29-1369504c137b>\u001b[0m in \u001b[0;36mmain\u001b[0;34m()\u001b[0m\n\u001b[1;32m      1\u001b[0m \u001b[0;32mdef\u001b[0m \u001b[0mmain\u001b[0m\u001b[0;34m(\u001b[0m\u001b[0;34m)\u001b[0m\u001b[0;34m:\u001b[0m\u001b[0;34m\u001b[0m\u001b[0;34m\u001b[0m\u001b[0m\n\u001b[0;32m----> 2\u001b[0;31m     \u001b[0mnum_students\u001b[0m \u001b[0;34m=\u001b[0m \u001b[0mint\u001b[0m\u001b[0;34m(\u001b[0m\u001b[0minput\u001b[0m\u001b[0;34m(\u001b[0m\u001b[0;34m\"Enter the number of students: \"\u001b[0m\u001b[0;34m)\u001b[0m\u001b[0;34m)\u001b[0m\u001b[0;34m\u001b[0m\u001b[0;34m\u001b[0m\u001b[0m\n\u001b[0m\u001b[1;32m      3\u001b[0m \u001b[0;34m\u001b[0m\u001b[0m\n\u001b[1;32m      4\u001b[0m     \u001b[0mstudents\u001b[0m \u001b[0;34m=\u001b[0m \u001b[0;34m[\u001b[0m\u001b[0;34m]\u001b[0m\u001b[0;34m\u001b[0m\u001b[0;34m\u001b[0m\u001b[0m\n\u001b[1;32m      5\u001b[0m \u001b[0;34m\u001b[0m\u001b[0m\n",
            "\u001b[0;31mValueError\u001b[0m: invalid literal for int() with base 10: 'n'"
          ]
        }
      ]
    },
    {
      "cell_type": "code",
      "source": [
        "unq_set ={ 4, 43 ,7 ,46 ,64, 8, 64, 5,45}\n",
        "print(unq_set, type(unq_set))\n",
        "new_set = set(['a','b','c','d'])\n",
        "print(new_set)"
      ],
      "metadata": {
        "id": "CUTh4A3p-K0N",
        "colab": {
          "base_uri": "https://localhost:8080/"
        },
        "outputId": "43787ab0-8ad1-45b2-eef5-40484e66698b"
      },
      "execution_count": null,
      "outputs": [
        {
          "output_type": "stream",
          "name": "stdout",
          "text": [
            "{64, 4, 5, 7, 8, 43, 45, 46} <class 'set'>\n",
            "{'c', 'd', 'b', 'a'}\n"
          ]
        }
      ]
    },
    {
      "cell_type": "code",
      "source": [
        "new_set.add('e')\n",
        "print(new_set)\n",
        "new_set.update(['f','g'])\n",
        "print(new_set)\n",
        "new_set.remove('f')\n",
        "print(new_set)\n",
        "new_set.discard('g')\n",
        "print(new_set)\n",
        "new_set.clear()\n",
        "print(new_set)"
      ],
      "metadata": {
        "colab": {
          "base_uri": "https://localhost:8080/"
        },
        "id": "7JkdoXhYDiUq",
        "outputId": "c63b9da9-64b1-42a3-8a4b-019fb1aee6cb"
      },
      "execution_count": null,
      "outputs": [
        {
          "output_type": "stream",
          "name": "stdout",
          "text": [
            "{'b', 'e', 'c', 'd', 'g', 'a'}\n",
            "{'b', 'e', 'c', 'd', 'g', 'a', 'f'}\n",
            "{'b', 'e', 'c', 'd', 'g', 'a'}\n",
            "{'b', 'e', 'c', 'd', 'a'}\n",
            "set()\n"
          ]
        }
      ]
    },
    {
      "cell_type": "code",
      "source": [
        "A = {1, 2, 3, 4, 5}\n",
        "B = {4, 5, 6, 7}\n",
        "C = A.union(B)\n",
        "print(C)\n",
        "D = A.intersection(B)\n",
        "print(D)\n",
        "E = A.difference(B)\n",
        "print(E)\n",
        "F = A.symmetric_difference(B)\n",
        "print(F)\n",
        "G = B.issubset(A)\n",
        "print(G)\n",
        "H = A.issuperset(B)\n",
        "print(H)\n",
        "\n",
        "I = {1, 2, 3, 4, 5}\n",
        "J = {4, 5, 6, 7}\n",
        "K = I.isdisjoint(J)\n",
        "print(K)\n",
        "L = I.copy()\n",
        "print(L)\n",
        "M = I.pop()\n",
        "print(M)\n",
        "N = I.clear()\n",
        "print(N)\n",
        "\n",
        "print(A == B)"
      ],
      "metadata": {
        "colab": {
          "base_uri": "https://localhost:8080/"
        },
        "id": "eT6j4hSCDiPB",
        "outputId": "764614b6-4e56-47c5-95ec-0aeaf43db5cd"
      },
      "execution_count": null,
      "outputs": [
        {
          "output_type": "stream",
          "name": "stdout",
          "text": [
            "{1, 2, 3, 4, 5, 6, 7}\n",
            "{4, 5}\n",
            "{1, 2, 3}\n",
            "{1, 2, 3, 6, 7}\n",
            "False\n",
            "False\n",
            "False\n",
            "{1, 2, 3, 4, 5}\n",
            "1\n",
            "None\n",
            "False\n"
          ]
        }
      ]
    },
    {
      "cell_type": "code",
      "source": [
        "My_set ={ 4, 43 ,7 ,46 ,64, 8, 64, 5,45}\n",
        "#print (My_set)\n",
        "\n",
        "for item in My_set:\n",
        "  print(item)"
      ],
      "metadata": {
        "colab": {
          "base_uri": "https://localhost:8080/"
        },
        "id": "lHN7-CtFDiLg",
        "outputId": "702e6b46-656b-400a-fdf5-16b53f35dd3b"
      },
      "execution_count": null,
      "outputs": [
        {
          "output_type": "stream",
          "name": "stdout",
          "text": [
            "64\n",
            "4\n",
            "5\n",
            "7\n",
            "8\n",
            "43\n",
            "45\n",
            "46\n"
          ]
        }
      ]
    },
    {
      "cell_type": "code",
      "source": [
        "\n",
        "score = float(input(\"Enter the student's score: \"))\n",
        "\n",
        "if score >= 80:\n",
        "    result = \"A+\"\n",
        "elif score >= 75 and score < 80:\n",
        "    result = \"A\"\n",
        "elif score >= 70 and score < 75:\n",
        "    result = \"A-\"\n",
        "else:\n",
        "    result = \"F\"\n",
        "\n",
        "print(f\"The student's grade is: {result}\")"
      ],
      "metadata": {
        "id": "tflW4PxtDiIa",
        "colab": {
          "base_uri": "https://localhost:8080/"
        },
        "outputId": "519e9998-5a1f-4321-fb47-9090a34b506b"
      },
      "execution_count": null,
      "outputs": [
        {
          "output_type": "stream",
          "name": "stdout",
          "text": [
            "Enter the student's score: 67\n",
            "The student's grade is: F\n"
          ]
        }
      ]
    },
    {
      "cell_type": "markdown",
      "source": [
        "Problem: 1"
      ],
      "metadata": {
        "id": "oHRqo2NMlgSL"
      }
    },
    {
      "cell_type": "code",
      "source": [
        "\n",
        "# List of daily temperatures for a week\n",
        "temperatures = [30, 32, 31, 29, 28, 33, 34]\n",
        "\n",
        "# Calculate the average temperature\n",
        "average_temperature = sum(temperatures) / len(temperatures)\n",
        "\n",
        "# Find the highest and lowest temperatures\n",
        "highest_temperature = max(temperatures)\n",
        "lowest_temperature = min(temperatures)\n",
        "\n",
        "# Print the results\n",
        "print(f\"Average temperature for the week: {average_temperature:.2f}°C\")\n",
        "print(f\"Highest temperature recorded: {highest_temperature}°C\")\n",
        "print(f\"Lowest temperature recorded: {lowest_temperature}°C\")"
      ],
      "metadata": {
        "colab": {
          "base_uri": "https://localhost:8080/"
        },
        "id": "b9B9rMw4jo6U",
        "outputId": "c6403d7a-d75f-4048-96e6-81c2af380b06"
      },
      "execution_count": null,
      "outputs": [
        {
          "output_type": "stream",
          "name": "stdout",
          "text": [
            "Average temperature for the week: 31.00°C\n",
            "Highest temperature recorded: 34°C\n",
            "Lowest temperature recorded: 28°C\n"
          ]
        }
      ]
    },
    {
      "cell_type": "markdown",
      "source": [
        "Problem : 2"
      ],
      "metadata": {
        "id": "jhdsTSO7kx0H"
      }
    },
    {
      "cell_type": "code",
      "source": [
        "\n",
        "# Email addresses from the newsletter signup form\n",
        "newsletter_emails = {\"john@example.com\", \"jane@example.com\", \"alice@example.com\", \"bob@example.com\"}\n",
        "\n",
        "# Email addresses from the purchase form\n",
        "purchase_emails = {\"alice@example.com\", \"bob@example.com\", \"carol@example.com\", \"dave@example.com\"}\n",
        "\n",
        "# Find common email addresses (intersection of two sets)\n",
        "common_emails = newsletter_emails.intersection(purchase_emails)\n",
        "\n",
        "# Print the result\n",
        "if common_emails:\n",
        "    print(\"Email addresses appearing in both sets:\")\n",
        "    for email in common_emails:\n",
        "        print(email)\n",
        "else:\n",
        "    print(\"No email addresses appear in both sets.\")"
      ],
      "metadata": {
        "colab": {
          "base_uri": "https://localhost:8080/"
        },
        "id": "ZoeNN5CLkCGQ",
        "outputId": "8e6090b8-75bd-4c83-8ec3-7144866a4d7c"
      },
      "execution_count": null,
      "outputs": [
        {
          "output_type": "stream",
          "name": "stdout",
          "text": [
            "Email addresses appearing in both sets:\n",
            "alice@example.com\n",
            "bob@example.com\n"
          ]
        }
      ]
    },
    {
      "cell_type": "markdown",
      "source": [
        "Problem : 3"
      ],
      "metadata": {
        "id": "W5Ft-I2pkbgA"
      }
    },
    {
      "cell_type": "code",
      "source": [
        "\n",
        "# List of participants with their scores\n",
        "participants = [\n",
        "    {\"name\": \"Alice\", \"score\": 85},\n",
        "    {\"name\": \"Bob\", \"score\": 78},\n",
        "    {\"name\": \"Charlie\", \"score\": 92},\n",
        "    {\"name\": \"Diana\", \"score\": 88},\n",
        "    {\"name\": \"Eve\", \"score\": 74}\n",
        "]\n",
        "\n",
        "# Calculate the average score\n",
        "total_score = sum(participant[\"score\"] for participant in participants)\n",
        "average_score = total_score / len(participants)\n",
        "\n",
        "print(f\"The average score is: {average_score:.2f}\")\n",
        "\n",
        "# Congratulate participants who scored above the average\n",
        "print(\"\\nCongratulations to the following participants who scored above the average:\")\n",
        "for participant in participants:\n",
        "    if participant[\"score\"] > average_score:\n",
        "        print(f\"{participant['name']} with a score of {participant['score']}\")"
      ],
      "metadata": {
        "colab": {
          "base_uri": "https://localhost:8080/"
        },
        "id": "uyAHhrOIkB-n",
        "outputId": "6d2cc465-4420-4a36-a30f-429d2a527065"
      },
      "execution_count": null,
      "outputs": [
        {
          "output_type": "stream",
          "name": "stdout",
          "text": [
            "The average score is: 83.40\n",
            "\n",
            "Congratulations to the following participants who scored above the average:\n",
            "Alice with a score of 85\n",
            "Charlie with a score of 92\n",
            "Diana with a score of 88\n"
          ]
        }
      ]
    },
    {
      "cell_type": "markdown",
      "source": [
        "Problem: 4"
      ],
      "metadata": {
        "id": "xYO4GRhYkD74"
      }
    },
    {
      "cell_type": "code",
      "source": [
        "\n",
        "# Dictionary of books\n",
        "books = {\n",
        "    \"The Great Gatsby\": True,\n",
        "    \"1984\": False,\n",
        "    \"To Kill a Mockingbird\": True,\n",
        "    \"Pride and Prejudice\": False,\n",
        "    \"Moby-Dick\": True\n",
        "}\n",
        "\n",
        "# Extract book titles that are available\n",
        "available_books = [title for title, available in books.items() if available]\n",
        "\n",
        "# Print the list of available books\n",
        "print(\"Available books:\")\n",
        "for book in available_books:\n",
        "    print(book)"
      ],
      "metadata": {
        "colab": {
          "base_uri": "https://localhost:8080/"
        },
        "id": "kElwuzA9kCBN",
        "outputId": "c89f8de1-e1eb-49d9-9be7-82202c577f8e"
      },
      "execution_count": null,
      "outputs": [
        {
          "output_type": "stream",
          "name": "stdout",
          "text": [
            "Available books:\n",
            "The Great Gatsby\n",
            "To Kill a Mockingbird\n",
            "Moby-Dick\n"
          ]
        }
      ]
    },
    {
      "cell_type": "markdown",
      "source": [
        "Problem: 5"
      ],
      "metadata": {
        "id": "oIg8uarwji1k"
      }
    },
    {
      "cell_type": "code",
      "source": [
        "\n",
        "# List of items\n",
        "items = ['apple', 'banana', 'apple', 'orange', 'banana', 'apple', 'grape', 'orange', 'grape']\n",
        "\n",
        "# Dictionary to store the count of each item\n",
        "item_counts = {}\n",
        "\n",
        "# Count each item\n",
        "for item in items:\n",
        "    if item in item_counts:\n",
        "        item_counts[item] += 1\n",
        "    else:\n",
        "        item_counts[item] = 1\n",
        "\n",
        "# Print the counts\n",
        "print(\"Item counts:\")\n",
        "for item, count in item_counts.items():\n",
        "    print(f\"{item}: {count}\")"
      ],
      "metadata": {
        "id": "9Wd8o9T-G6wz",
        "colab": {
          "base_uri": "https://localhost:8080/"
        },
        "outputId": "7d05cefe-7e07-4a00-9d5b-4af713906d6e"
      },
      "execution_count": null,
      "outputs": [
        {
          "output_type": "stream",
          "name": "stdout",
          "text": [
            "Item counts:\n",
            "apple: 3\n",
            "banana: 2\n",
            "orange: 2\n",
            "grape: 2\n"
          ]
        }
      ]
    },
    {
      "cell_type": "markdown",
      "source": [
        "Problem :5"
      ],
      "metadata": {
        "id": "9w6pqv7ejcmB"
      }
    },
    {
      "cell_type": "code",
      "source": [
        "\n",
        "from collections import Counter\n",
        "\n",
        "items = ['apple', 'banana', 'apple', 'orange', 'banana', 'apple', 'grape', 'orange', 'grape']\n",
        "\n",
        "item_counts = Counter(items)\n",
        "\n",
        "print(\"Item counts:\")\n",
        "for item, count in item_counts.items():\n",
        "    print(f\"{item}: {count}\")"
      ],
      "metadata": {
        "colab": {
          "base_uri": "https://localhost:8080/"
        },
        "id": "hI-oeo4_hwe7",
        "outputId": "04c13b03-992d-42ba-e466-55b92ca9f98e"
      },
      "execution_count": null,
      "outputs": [
        {
          "output_type": "stream",
          "name": "stdout",
          "text": [
            "Item counts:\n",
            "apple: 3\n",
            "banana: 2\n",
            "orange: 2\n",
            "grape: 2\n"
          ]
        }
      ]
    },
    {
      "cell_type": "markdown",
      "source": [
        "Problem : 6"
      ],
      "metadata": {
        "id": "DS_bE4XdlzKp"
      }
    },
    {
      "cell_type": "code",
      "source": [
        "\n",
        "# Dictionary of employees' salaries\n",
        "salaries = {\n",
        "    \"Alice\": 4500,\n",
        "    \"Bob\": 6000,\n",
        "    \"Charlie\": 5000,\n",
        "    \"Diana\": 5500,\n",
        "    \"Eve\": 4800\n",
        "}\n",
        "\n",
        "# Adjust salaries based on the criteria\n",
        "adjusted_salaries = {}\n",
        "for employee, salary in salaries.items():\n",
        "    if salary > 5000:\n",
        "        adjusted_salaries[employee] = salary * 1.5  # Increase by 50%\n",
        "    else:\n",
        "        adjusted_salaries[employee] = salary * 1.3  # Increase by 30%\n",
        "\n",
        "# Print the adjusted salaries\n",
        "print(\"Adjusted Salaries:\")\n",
        "for employee, new_salary in adjusted_salaries.items():\n",
        "    print(f\"{employee}: {new_salary:.2f}\")"
      ],
      "metadata": {
        "id": "C9HEaU2wh_Rx",
        "colab": {
          "base_uri": "https://localhost:8080/"
        },
        "outputId": "e0d7a360-26be-44de-f547-9dc117483a5f"
      },
      "execution_count": null,
      "outputs": [
        {
          "output_type": "stream",
          "name": "stdout",
          "text": [
            "Adjusted Salaries:\n",
            "Alice: 5850.00\n",
            "Bob: 9000.00\n",
            "Charlie: 6500.00\n",
            "Diana: 8250.00\n",
            "Eve: 6240.00\n"
          ]
        }
      ]
    },
    {
      "cell_type": "markdown",
      "source": [
        "Problem : 7"
      ],
      "metadata": {
        "id": "RpPZXsTVl3bL"
      }
    },
    {
      "cell_type": "code",
      "source": [
        "\n",
        "# Function to check if a number is prime\n",
        "def is_prime(number):\n",
        "    if number <= 1:  # Numbers less than or equal to 1 are not prime\n",
        "        return False\n",
        "    for i in range(2, int(number ** 0.5) + 1):  # Check divisors up to the square root of the number\n",
        "        if number % i == 0:\n",
        "            return False\n",
        "    return True\n",
        "\n",
        "# Take input from the user\n",
        "num = int(input(\"Enter an integer: \"))\n",
        "\n",
        "# Check and print whether the number is prime\n",
        "if is_prime(num):\n",
        "    print(f\"{num} is a prime number.\")\n",
        "else:\n",
        "    print(f\"{num} is not a prime number.\")"
      ],
      "metadata": {
        "id": "79Y6HiLHh_bm",
        "colab": {
          "base_uri": "https://localhost:8080/"
        },
        "outputId": "005b5667-13a3-4407-9899-fe3b4f033b69"
      },
      "execution_count": null,
      "outputs": [
        {
          "output_type": "stream",
          "name": "stdout",
          "text": [
            "Enter an integer: 76\n",
            "76 is not a prime number.\n"
          ]
        }
      ]
    },
    {
      "cell_type": "markdown",
      "source": [
        "Problem : 8"
      ],
      "metadata": {
        "id": "jomRtIY2mDIT"
      }
    },
    {
      "cell_type": "code",
      "source": [
        "\n",
        "# Dictionary of student names and their marks\n",
        "stat = {\n",
        "    \"Alice\": 85,\n",
        "    \"Bob\": 72,\n",
        "    \"Charlie\": 45,\n",
        "    \"Diana\": 67,\n",
        "    \"Eve\": 92\n",
        "}\n",
        "\n",
        "# Function to determine the grade based on marks\n",
        "def get_grade(mark):\n",
        "    if 80 <= mark <= 100:\n",
        "        return \"A+\"\n",
        "    elif 70 <= mark < 80:\n",
        "        return \"A\"\n",
        "    elif 60 <= mark < 70:\n",
        "        return \"A-\"\n",
        "    elif 50 <= mark < 60:\n",
        "        return \"B\"\n",
        "    else:\n",
        "        return \"F\"\n",
        "\n",
        "# Iterate through the dictionary and print each student's grade\n",
        "for student, mark in stat.items():\n",
        "    grade = get_grade(mark)\n",
        "    print(f\"{student} scored {mark} and got grade {grade}.\")"
      ],
      "metadata": {
        "colab": {
          "base_uri": "https://localhost:8080/"
        },
        "id": "rZW9FgcvmGli",
        "outputId": "a7bb8831-5655-470c-a7ac-12b5ac77aa19"
      },
      "execution_count": null,
      "outputs": [
        {
          "output_type": "stream",
          "name": "stdout",
          "text": [
            "Alice scored 85 and got grade A+.\n",
            "Bob scored 72 and got grade A.\n",
            "Charlie scored 45 and got grade F.\n",
            "Diana scored 67 and got grade A-.\n",
            "Eve scored 92 and got grade A+.\n"
          ]
        }
      ]
    },
    {
      "cell_type": "markdown",
      "source": [
        "Problem : 9"
      ],
      "metadata": {
        "id": "FE5VMRkfmSHf"
      }
    },
    {
      "cell_type": "code",
      "source": [
        "\n",
        "# Function to calculate the average grade\n",
        "def calculate_average(grades):\n",
        "    return sum(grades) / len(grades)\n",
        "\n",
        "# Function to determine pass/fail based on average grade\n",
        "def determine_pass_fail(average):\n",
        "    return \"Pass\" if average >= 60 else \"Fail\"\n",
        "\n",
        "# Function to find the highest and lowest grades\n",
        "def find_highest_lowest(grades):\n",
        "    return (max(grades), min(grades))\n",
        "\n",
        "# Main program\n",
        "def analyze_grades():\n",
        "    # Input the number of students\n",
        "    num_students = int(input(\"Enter the number of students: \"))\n",
        "\n",
        "    # Loop through each student\n",
        "    for _ in range(num_students):\n",
        "        # Input student's name\n",
        "        name = input(\"Enter the student's name: \")\n",
        "\n",
        "        # Input grades as a space-separated string, convert to list of integers\n",
        "        grades = list(map(int, input(f\"Enter grades for {name} (separated by spaces): \").split()))\n",
        "\n",
        "        # Calculate average grade\n",
        "        average = calculate_average(grades)\n",
        "\n",
        "        # Determine pass/fail status\n",
        "        pass_fail = determine_pass_fail(average)\n",
        "\n",
        "        # Find highest and lowest grades\n",
        "        highest, lowest = find_highest_lowest(grades)\n",
        "\n",
        "        # Display results\n",
        "        print(f\"\\nResults for {name}:\")\n",
        "        print(f\"Average Grade: {average:.2f}\")\n",
        "        print(f\"Pass/Fail: {pass_fail}\")\n",
        "        print(f\"Highest Grade: {highest}\")\n",
        "        print(f\"Lowest Grade: {lowest}\")\n",
        "        print(\"-\" * 30)\n",
        "\n",
        "# Run the program\n",
        "analyze_grades()"
      ],
      "metadata": {
        "colab": {
          "base_uri": "https://localhost:8080/",
          "height": 949
        },
        "id": "VnrTA-vXmUAk",
        "outputId": "30f1b67b-367e-4b90-e8de-5284253aea5f"
      },
      "execution_count": null,
      "outputs": [
        {
          "output_type": "stream",
          "name": "stdout",
          "text": [
            "Enter the number of students: 77\n",
            "Enter the student's name: Naeem\n",
            "Enter grades for Naeem (separated by spaces): 65 76 89 98 67\n",
            "\n",
            "Results for Naeem:\n",
            "Average Grade: 79.00\n",
            "Pass/Fail: Pass\n",
            "Highest Grade: 98\n",
            "Lowest Grade: 65\n",
            "------------------------------\n",
            "Enter the student's name: Nae\n",
            "Enter grades for Nae (separated by spaces): 76\n",
            "\n",
            "Results for Nae:\n",
            "Average Grade: 76.00\n",
            "Pass/Fail: Pass\n",
            "Highest Grade: 76\n",
            "Lowest Grade: 76\n",
            "------------------------------\n"
          ]
        },
        {
          "output_type": "error",
          "ename": "KeyboardInterrupt",
          "evalue": "Interrupted by user",
          "traceback": [
            "\u001b[0;31m---------------------------------------------------------------------------\u001b[0m",
            "\u001b[0;31mKeyboardInterrupt\u001b[0m                         Traceback (most recent call last)",
            "\u001b[0;32m<ipython-input-31-dce289c9a31e>\u001b[0m in \u001b[0;36m<cell line: 44>\u001b[0;34m()\u001b[0m\n\u001b[1;32m     42\u001b[0m \u001b[0;34m\u001b[0m\u001b[0m\n\u001b[1;32m     43\u001b[0m \u001b[0;31m# Run the program\u001b[0m\u001b[0;34m\u001b[0m\u001b[0;34m\u001b[0m\u001b[0m\n\u001b[0;32m---> 44\u001b[0;31m \u001b[0manalyze_grades\u001b[0m\u001b[0;34m(\u001b[0m\u001b[0;34m)\u001b[0m\u001b[0;34m\u001b[0m\u001b[0;34m\u001b[0m\u001b[0m\n\u001b[0m",
            "\u001b[0;32m<ipython-input-31-dce289c9a31e>\u001b[0m in \u001b[0;36manalyze_grades\u001b[0;34m()\u001b[0m\n\u001b[1;32m     19\u001b[0m     \u001b[0;32mfor\u001b[0m \u001b[0m_\u001b[0m \u001b[0;32min\u001b[0m \u001b[0mrange\u001b[0m\u001b[0;34m(\u001b[0m\u001b[0mnum_students\u001b[0m\u001b[0;34m)\u001b[0m\u001b[0;34m:\u001b[0m\u001b[0;34m\u001b[0m\u001b[0;34m\u001b[0m\u001b[0m\n\u001b[1;32m     20\u001b[0m         \u001b[0;31m# Input student's name\u001b[0m\u001b[0;34m\u001b[0m\u001b[0;34m\u001b[0m\u001b[0m\n\u001b[0;32m---> 21\u001b[0;31m         \u001b[0mname\u001b[0m \u001b[0;34m=\u001b[0m \u001b[0minput\u001b[0m\u001b[0;34m(\u001b[0m\u001b[0;34m\"Enter the student's name: \"\u001b[0m\u001b[0;34m)\u001b[0m\u001b[0;34m\u001b[0m\u001b[0;34m\u001b[0m\u001b[0m\n\u001b[0m\u001b[1;32m     22\u001b[0m \u001b[0;34m\u001b[0m\u001b[0m\n\u001b[1;32m     23\u001b[0m         \u001b[0;31m# Input grades as a space-separated string, convert to list of integers\u001b[0m\u001b[0;34m\u001b[0m\u001b[0;34m\u001b[0m\u001b[0m\n",
            "\u001b[0;32m/usr/local/lib/python3.10/dist-packages/ipykernel/kernelbase.py\u001b[0m in \u001b[0;36mraw_input\u001b[0;34m(self, prompt)\u001b[0m\n\u001b[1;32m    849\u001b[0m                 \u001b[0;34m\"raw_input was called, but this frontend does not support input requests.\"\u001b[0m\u001b[0;34m\u001b[0m\u001b[0;34m\u001b[0m\u001b[0m\n\u001b[1;32m    850\u001b[0m             )\n\u001b[0;32m--> 851\u001b[0;31m         return self._input_request(str(prompt),\n\u001b[0m\u001b[1;32m    852\u001b[0m             \u001b[0mself\u001b[0m\u001b[0;34m.\u001b[0m\u001b[0m_parent_ident\u001b[0m\u001b[0;34m,\u001b[0m\u001b[0;34m\u001b[0m\u001b[0;34m\u001b[0m\u001b[0m\n\u001b[1;32m    853\u001b[0m             \u001b[0mself\u001b[0m\u001b[0;34m.\u001b[0m\u001b[0m_parent_header\u001b[0m\u001b[0;34m,\u001b[0m\u001b[0;34m\u001b[0m\u001b[0;34m\u001b[0m\u001b[0m\n",
            "\u001b[0;32m/usr/local/lib/python3.10/dist-packages/ipykernel/kernelbase.py\u001b[0m in \u001b[0;36m_input_request\u001b[0;34m(self, prompt, ident, parent, password)\u001b[0m\n\u001b[1;32m    893\u001b[0m             \u001b[0;32mexcept\u001b[0m \u001b[0mKeyboardInterrupt\u001b[0m\u001b[0;34m:\u001b[0m\u001b[0;34m\u001b[0m\u001b[0;34m\u001b[0m\u001b[0m\n\u001b[1;32m    894\u001b[0m                 \u001b[0;31m# re-raise KeyboardInterrupt, to truncate traceback\u001b[0m\u001b[0;34m\u001b[0m\u001b[0;34m\u001b[0m\u001b[0m\n\u001b[0;32m--> 895\u001b[0;31m                 \u001b[0;32mraise\u001b[0m \u001b[0mKeyboardInterrupt\u001b[0m\u001b[0;34m(\u001b[0m\u001b[0;34m\"Interrupted by user\"\u001b[0m\u001b[0;34m)\u001b[0m \u001b[0;32mfrom\u001b[0m \u001b[0;32mNone\u001b[0m\u001b[0;34m\u001b[0m\u001b[0;34m\u001b[0m\u001b[0m\n\u001b[0m\u001b[1;32m    896\u001b[0m             \u001b[0;32mexcept\u001b[0m \u001b[0mException\u001b[0m \u001b[0;32mas\u001b[0m \u001b[0me\u001b[0m\u001b[0;34m:\u001b[0m\u001b[0;34m\u001b[0m\u001b[0;34m\u001b[0m\u001b[0m\n\u001b[1;32m    897\u001b[0m                 \u001b[0mself\u001b[0m\u001b[0;34m.\u001b[0m\u001b[0mlog\u001b[0m\u001b[0;34m.\u001b[0m\u001b[0mwarning\u001b[0m\u001b[0;34m(\u001b[0m\u001b[0;34m\"Invalid Message:\"\u001b[0m\u001b[0;34m,\u001b[0m \u001b[0mexc_info\u001b[0m\u001b[0;34m=\u001b[0m\u001b[0;32mTrue\u001b[0m\u001b[0;34m)\u001b[0m\u001b[0;34m\u001b[0m\u001b[0;34m\u001b[0m\u001b[0m\n",
            "\u001b[0;31mKeyboardInterrupt\u001b[0m: Interrupted by user"
          ]
        }
      ]
    },
    {
      "cell_type": "markdown",
      "source": [
        "Problem : 10"
      ],
      "metadata": {
        "id": "ESFcJ4dhn3LM"
      }
    },
    {
      "cell_type": "code",
      "source": [
        "\n",
        "# List of participants with their scores\n",
        "participants = [\n",
        "    {\"name\": \"Alice\", \"score\": 85},\n",
        "    {\"name\": \"Bob\", \"score\": 70},\n",
        "    {\"name\": \"Charlie\", \"score\": 90},\n",
        "    {\"name\": \"Diana\", \"score\": 65},\n",
        "    {\"name\": \"Eve\", \"score\": 75}\n",
        "]\n",
        "\n",
        "# Calculate the average score\n",
        "total_score = sum(participant[\"score\"] for participant in participants)\n",
        "average_score = total_score / len(participants)\n",
        "\n",
        "# Print the average score\n",
        "print(f\"Average score: {average_score:.2f}\")\n",
        "\n",
        "# Find and congratulate participants who scored above the average\n",
        "print(\"\\nCongratulations to the following participants who scored above the average:\")\n",
        "for participant in participants:\n",
        "    if participant[\"score\"] > average_score:\n",
        "        print(f\"{participant['name']} with score {participant['score']}\")"
      ],
      "metadata": {
        "colab": {
          "base_uri": "https://localhost:8080/"
        },
        "id": "b2FdBWkHn2mB",
        "outputId": "6c8c397b-d899-4ec1-a086-803f8a697b8a"
      },
      "execution_count": null,
      "outputs": [
        {
          "output_type": "stream",
          "name": "stdout",
          "text": [
            "Average score: 77.00\n",
            "\n",
            "Congratulations to the following participants who scored above the average:\n",
            "Alice with score 85\n",
            "Charlie with score 90\n"
          ]
        }
      ]
    },
    {
      "cell_type": "markdown",
      "source": [],
      "metadata": {
        "id": "n31YT5LpoDjh"
      }
    },
    {
      "cell_type": "markdown",
      "source": [
        "Problem: 11"
      ],
      "metadata": {
        "id": "DAYSUsilSHoo"
      }
    },
    {
      "cell_type": "code",
      "source": [
        "def swap_values(a, b):\n",
        "\n",
        "    a = input(\"Enter the first value: \")\n",
        "    b = input(\"Enter the second value: \")\n",
        "    return b, a\n",
        "print(\"Ulta values:\", swap_values(a,b))"
      ],
      "metadata": {
        "id": "ICJrasb8oEOW"
      },
      "execution_count": null,
      "outputs": []
    },
    {
      "cell_type": "markdown",
      "source": [
        "**Problem 1**"
      ],
      "metadata": {
        "id": "VIMgyk4koEnK"
      }
    },
    {
      "cell_type": "code",
      "source": [
        "temp = [28, 30, 32, 28, 27, 25, 26]\n",
        "\n",
        "average_temp = sum(temp)/len(temp)\n",
        "maximum_temp = max(temp)\n",
        "minimum_temp = min(temp)\n",
        "\n",
        "print(f\"This week's average temperature: \", average_temp)\n",
        "print(f\"This week's highest temperature: \", maximum_temp)\n",
        "print(f\"This week's lowest temperature: \", minimum_temp)"
      ],
      "metadata": {
        "id": "emZq-erFoE_f",
        "colab": {
          "base_uri": "https://localhost:8080/"
        },
        "outputId": "8cc883c0-f521-481b-8335-9ed9b7b50df9"
      },
      "execution_count": null,
      "outputs": [
        {
          "output_type": "stream",
          "name": "stdout",
          "text": [
            "This week's average temperature:  28.0\n",
            "This week's highest temperature:  32\n",
            "This week's lowest temperature:  25\n"
          ]
        }
      ]
    },
    {
      "source": [
        "number_of_temp = int(input(\"How many temperatures do you want to enter? \"))\n",
        "temperatures = []\n",
        "\n",
        "for i in range(number_of_temp):\n",
        "    temp = int(input(f\"Enter temperature {i+1}: \"))\n",
        "    temperatures.append(temp)\n",
        "\n",
        "average_temp = sum(temperatures) / len(temperatures)\n",
        "maximum_temp = max(temperatures)\n",
        "minimum_temp = min(temperatures)\n",
        "\n",
        "print(f\"This week's average temperature: {average_temp:.2f}°\")\n",
        "print(f\"This week's highest temperature: {maximum_temp}°\")\n",
        "print(f\"This week's lowest temperature: {minimum_temp}°\")"
      ],
      "cell_type": "code",
      "metadata": {
        "colab": {
          "base_uri": "https://localhost:8080/"
        },
        "id": "-LzLs1PQRudi",
        "outputId": "48227faf-3d1e-45e0-95e1-8842bef7c8b5"
      },
      "execution_count": null,
      "outputs": [
        {
          "output_type": "stream",
          "name": "stdout",
          "text": [
            "How many temperatures do you want to enter? 2\n",
            "Enter temperature 1: 12\n",
            "Enter temperature 2: 14\n",
            "This week's average temperature: 13.00°\n",
            "This week's highest temperature: 14°\n",
            "This week's lowest temperature: 12°\n"
          ]
        }
      ]
    },
    {
      "cell_type": "markdown",
      "source": [
        "**Problem 2**"
      ],
      "metadata": {
        "id": "j5wmZYCFcPFg"
      }
    },
    {
      "cell_type": "code",
      "source": [
        "newsletter_set = {\"a@example.com\", \"b@example.com\", \"c@example.com\", \"e@example.com\"}\n",
        "purchase_set = {\"b@example.com\", \"c@example.com\", \"d@example.com\"}\n",
        "\n",
        "common_emails = newsletter_set.intersection(purchase_set) #union/difference/symetric_difference can be done too\n",
        "\n",
        "print(\"Common email addresses:\", common_emails)"
      ],
      "metadata": {
        "colab": {
          "base_uri": "https://localhost:8080/"
        },
        "id": "h1X-pwdWcOsF",
        "outputId": "37cbf60d-f118-40a3-b5e9-61461834f341"
      },
      "execution_count": null,
      "outputs": [
        {
          "output_type": "stream",
          "name": "stdout",
          "text": [
            "Common email addresses: {'b@example.com', 'c@example.com'}\n"
          ]
        }
      ]
    },
    {
      "cell_type": "code",
      "source": [
        "def books():\n",
        "  Total_books = {\n",
        "      \"The Great Gatsby\": True,\n",
        "      \"1984\": False,\n",
        "      \"To Kill a Mockingbird\": True,\n",
        "      \"Pride and Prejudice\": False,\n",
        "      \"Moby-Dick\": True\n",
        "  }\n",
        "  available_books = []\n",
        "  for book, available in Total_books.items():\n",
        "    if available:\n",
        "      available_books.append(book)\n",
        "  return available_books\n",
        "\n",
        "print(\"Available books are: \", books())"
      ],
      "metadata": {
        "id": "D_lwDdE5QBi0",
        "colab": {
          "base_uri": "https://localhost:8080/"
        },
        "outputId": "2a7311da-bbad-4690-a0dd-80cb6f39be47"
      },
      "execution_count": null,
      "outputs": [
        {
          "output_type": "stream",
          "name": "stdout",
          "text": [
            "Available books are:  ['The Great Gatsby', 'To Kill a Mockingbird', 'Moby-Dick']\n"
          ]
        }
      ]
    },
    {
      "cell_type": "markdown",
      "source": [
        "**I hate Problems**"
      ],
      "metadata": {
        "id": "cdcUSN20s5x0"
      }
    },
    {
      "cell_type": "code",
      "source": [
        "for i in range(1, 101):\n",
        "    print(i)"
      ],
      "metadata": {
        "id": "gcWwwc43fiLp"
      },
      "execution_count": null,
      "outputs": []
    },
    {
      "cell_type": "code",
      "source": [
        "def even_num_generator():\n",
        "  for i in range (1, 20):\n",
        "    if i % 2 == 0:\n",
        "      yield i\n",
        "gen = even_num_generator()\n",
        "print(next(gen))\n",
        "print(next(gen))\n",
        "print(next(gen))"
      ],
      "metadata": {
        "id": "6E7zuIFafiIn",
        "colab": {
          "base_uri": "https://localhost:8080/"
        },
        "outputId": "3f57053e-a8da-4606-da5e-ff08717f45ce"
      },
      "execution_count": null,
      "outputs": [
        {
          "output_type": "stream",
          "name": "stdout",
          "text": [
            "2\n",
            "4\n",
            "6\n"
          ]
        }
      ]
    },
    {
      "cell_type": "code",
      "source": [
        "def power_out(x):\n",
        "  def power_in(y):\n",
        "    return x ** y\n",
        "  return power_in\n",
        "\n",
        "square = power_out(5)\n",
        "print(square(2))\n",
        "\n",
        "cube = power_out(5)\n",
        "print(cube(3))"
      ],
      "metadata": {
        "id": "6XEo_ZhAfiFs",
        "colab": {
          "base_uri": "https://localhost:8080/"
        },
        "outputId": "b9d3193b-7f87-4e43-b2c7-c73cd61d8cc8"
      },
      "execution_count": null,
      "outputs": [
        {
          "output_type": "stream",
          "name": "stdout",
          "text": [
            "25\n",
            "125\n"
          ]
        }
      ]
    },
    {
      "cell_type": "code",
      "source": [
        "print(\"Here is the multiplication table of 5: \")\n",
        "for n in range (1, 11):\n",
        "     print(f\"5*{n}={5*n}\")"
      ],
      "metadata": {
        "id": "yclQ8fu1fiDD",
        "colab": {
          "base_uri": "https://localhost:8080/"
        },
        "outputId": "8ea8090c-e8a9-4bf2-aab7-b4d9d730f7a0"
      },
      "execution_count": null,
      "outputs": [
        {
          "output_type": "stream",
          "name": "stdout",
          "text": [
            "Here is the multiplication table of 5: \n",
            "5*1=5\n",
            "5*2=10\n",
            "5*3=15\n",
            "5*4=20\n",
            "5*5=25\n",
            "5*6=30\n",
            "5*7=35\n",
            "5*8=40\n",
            "5*9=45\n",
            "5*10=50\n"
          ]
        }
      ]
    },
    {
      "cell_type": "code",
      "source": [],
      "metadata": {
        "id": "TQHKsC6aFZqd"
      },
      "execution_count": null,
      "outputs": []
    },
    {
      "cell_type": "code",
      "source": [],
      "metadata": {
        "id": "gzkF9UGyFZoM"
      },
      "execution_count": null,
      "outputs": []
    },
    {
      "cell_type": "code",
      "source": [],
      "metadata": {
        "id": "Oj1HR1URFZiT"
      },
      "execution_count": null,
      "outputs": []
    }
  ],
  "metadata": {
    "colab": {
      "provenance": [],
      "authorship_tag": "ABX9TyOA9ZjLkVoaKq8Ieao7AHlQ",
      "include_colab_link": true
    },
    "kernelspec": {
      "display_name": "Python 3",
      "name": "python3"
    },
    "language_info": {
      "name": "python"
    }
  },
  "nbformat": 4,
  "nbformat_minor": 0
}