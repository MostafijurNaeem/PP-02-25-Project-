{
  "nbformat": 4,
  "nbformat_minor": 0,
  "metadata": {
    "colab": {
      "provenance": [],
      "authorship_tag": "ABX9TyNeYMf5+url3HJh9izxZNn+",
      "include_colab_link": true
    },
    "kernelspec": {
      "name": "python3",
      "display_name": "Python 3"
    },
    "language_info": {
      "name": "python"
    }
  },
  "cells": [
    {
      "cell_type": "markdown",
      "metadata": {
        "id": "view-in-github",
        "colab_type": "text"
      },
      "source": [
        "<a href=\"https://colab.research.google.com/github/MostafijurNaeem/Python/blob/main/Decorators_in_python.ipynb\" target=\"_parent\"><img src=\"https://colab.research.google.com/assets/colab-badge.svg\" alt=\"Open In Colab\"/></a>"
      ]
    },
    {
      "cell_type": "code",
      "execution_count": 1,
      "metadata": {
        "colab": {
          "base_uri": "https://localhost:8080/"
        },
        "id": "2Y1dsEOyofeM",
        "outputId": "3e08d39c-7e9d-4ceb-cca8-fa47311c449d"
      },
      "outputs": [
        {
          "output_type": "stream",
          "name": "stdout",
          "text": [
            "Hello!\n",
            "Something ordinary\n",
            "Goodbye!\n",
            "Hello!\n",
            "Something ordinary2\n",
            "Goodbye!\n"
          ]
        }
      ],
      "source": [
        "def greet_decorator(func):\n",
        "    def wrapper():\n",
        "        print(\"Hello!\")\n",
        "        func()\n",
        "        print(\"Goodbye!\")\n",
        "    return wrapper\n",
        "\n",
        "\n",
        "@greet_decorator\n",
        "def ordinary():\n",
        "  print(\"Something ordinary\")\n",
        "\n",
        "\n",
        "@greet_decorator\n",
        "def ordinary2():\n",
        "  print(\"Something ordinary2\")\n",
        "\n",
        "ordinary()\n",
        "ordinary2()"
      ]
    },
    {
      "cell_type": "code",
      "source": [
        "def greet_decorator(func):\n",
        "    def wrapper():\n",
        "        print(\"Hello!\")\n",
        "        func()\n",
        "        print(\"Goodbye!\")\n",
        "    return wrapper\n",
        "\n",
        "@greet_decorator\n",
        "def my_function():\n",
        "    print(\"I am learning decorators!\")\n",
        "\n",
        "my_function()"
      ],
      "metadata": {
        "colab": {
          "base_uri": "https://localhost:8080/"
        },
        "id": "fbeH3OX8opMd",
        "outputId": "40255d74-0eee-4f80-945c-0dfb4fe4ced5"
      },
      "execution_count": 2,
      "outputs": [
        {
          "output_type": "stream",
          "name": "stdout",
          "text": [
            "Hello!\n",
            "I am learning decorators!\n",
            "Goodbye!\n"
          ]
        }
      ]
    },
    {
      "cell_type": "code",
      "source": [
        "from time import time"
      ],
      "metadata": {
        "id": "VsdVm4PbpTu8"
      },
      "execution_count": 4,
      "outputs": []
    },
    {
      "cell_type": "code",
      "source": [
        "# Your code here\n",
        "def timer_decorator(func):\n",
        "  def wrapper():\n",
        "    start_time = time()\n",
        "    ret_val = func()\n",
        "    end_time = time()\n",
        "    print(\"Elapsed Time: \", end_time - start_time)\n",
        "    return ret_val\n",
        "\n",
        "  return wrapper"
      ],
      "metadata": {
        "id": "AFQVa_f-pY6v"
      },
      "execution_count": 5,
      "outputs": []
    },
    {
      "cell_type": "code",
      "source": [
        "@greet_decorator\n",
        "@timer_decorator\n",
        "def my_function():\n",
        "    print(\"I am learning decorators!\")\n",
        "\n",
        "my_function()"
      ],
      "metadata": {
        "colab": {
          "base_uri": "https://localhost:8080/"
        },
        "id": "H9Pvps8HpY3V",
        "outputId": "a79ca801-8b72-4ae4-8c35-ce14d5f70c4c"
      },
      "execution_count": 6,
      "outputs": [
        {
          "output_type": "stream",
          "name": "stdout",
          "text": [
            "Hello!\n",
            "I am learning decorators!\n",
            "Elapsed Time:  1.5020370483398438e-05\n",
            "Goodbye!\n"
          ]
        }
      ]
    },
    {
      "cell_type": "code",
      "source": [
        "@timer_decorator\n",
        "def loop10000():\n",
        "  sum = 0\n",
        "  for i in range(1000):\n",
        "    sum += 10000\n",
        "  return sum\n",
        "\n",
        "print(loop10000())"
      ],
      "metadata": {
        "colab": {
          "base_uri": "https://localhost:8080/"
        },
        "id": "Tk0_5ViCpeI_",
        "outputId": "ae3d64c6-f568-482d-c4ec-1a49d57b0506"
      },
      "execution_count": 7,
      "outputs": [
        {
          "output_type": "stream",
          "name": "stdout",
          "text": [
            "Elapsed Time:  0.00010371208190917969\n",
            "10000000\n"
          ]
        }
      ]
    }
  ]
}