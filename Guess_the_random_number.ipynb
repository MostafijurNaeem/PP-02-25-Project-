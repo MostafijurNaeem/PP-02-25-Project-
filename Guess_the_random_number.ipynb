{
  "nbformat": 4,
  "nbformat_minor": 0,
  "metadata": {
    "colab": {
      "provenance": [],
      "authorship_tag": "ABX9TyO6EKytxOmZ3R4lC3jgRn1k",
      "include_colab_link": true
    },
    "kernelspec": {
      "name": "python3",
      "display_name": "Python 3"
    },
    "language_info": {
      "name": "python"
    }
  },
  "cells": [
    {
      "cell_type": "markdown",
      "metadata": {
        "id": "view-in-github",
        "colab_type": "text"
      },
      "source": [
        "<a href=\"https://colab.research.google.com/github/MostafijurNaeem/Python/blob/main/Guess_the_random_number.ipynb\" target=\"_parent\"><img src=\"https://colab.research.google.com/assets/colab-badge.svg\" alt=\"Open In Colab\"/></a>"
      ]
    },
    {
      "cell_type": "code",
      "execution_count": 5,
      "metadata": {
        "colab": {
          "base_uri": "https://localhost:8080/"
        },
        "id": "T6C8v7_LYZuk",
        "outputId": "741359f3-ac4e-49fb-80cd-cb14d0970152"
      },
      "outputs": [
        {
          "output_type": "stream",
          "name": "stdout",
          "text": [
            "99\n"
          ]
        }
      ],
      "source": [
        "import random\n",
        "random_num = random.randint(1,2)\n",
        "print(random_num)\n"
      ]
    },
    {
      "cell_type": "code",
      "source": [
        "random_float = random.random()\n",
        "print(random_float)"
      ],
      "metadata": {
        "colab": {
          "base_uri": "https://localhost:8080/"
        },
        "id": "-LgAPeZWZglk",
        "outputId": "6c9169c9-1e8e-4dbb-8ee9-9958f80ada49"
      },
      "execution_count": 9,
      "outputs": [
        {
          "output_type": "stream",
          "name": "stdout",
          "text": [
            "0.7275520176741164\n"
          ]
        }
      ]
    },
    {
      "cell_type": "code",
      "source": [
        "import random\n",
        "\n",
        "random_num = random.randint(1, 3)\n",
        "\n",
        "while True:\n",
        "    user_input = input(\"Guess the number (1-3) or type 'exit' to quit: \")\n",
        "\n",
        "    if user_input.lower() == 'exit':\n",
        "        print(\"Exiting the game.\")\n",
        "        break\n",
        "\n",
        "    try:\n",
        "        guess = int(user_input)\n",
        "        if 1 <= guess <= 3:\n",
        "            if guess == random_num:\n",
        "                print(\"Congratulations! You guessed the number correctly.\")\n",
        "                break\n",
        "            elif guess < random_num:\n",
        "                print(\"Too low! Try again.\")\n",
        "            else:\n",
        "                print(\"Too high! Try again.\")\n",
        "        else:\n",
        "            print(\"Please enter a number between 1 and 3.\")\n",
        "    except ValueError:\n",
        "        print(\"Invalid input. Please enter a number or 'exit'.\")"
      ],
      "metadata": {
        "colab": {
          "base_uri": "https://localhost:8080/"
        },
        "id": "RxtKpOEzZ2RM",
        "outputId": "ab59f756-0288-4db4-92b7-41586911d1db"
      },
      "execution_count": 30,
      "outputs": [
        {
          "output_type": "stream",
          "name": "stdout",
          "text": [
            "3\n",
            "Guess the number (1-3) or type 'exit' to quit: 3\n",
            "Congratulations! You guessed the number correctly.\n"
          ]
        }
      ]
    },
    {
      "cell_type": "code",
      "source": [],
      "metadata": {
        "id": "404zxAexdePb"
      },
      "execution_count": null,
      "outputs": []
    }
  ]
}