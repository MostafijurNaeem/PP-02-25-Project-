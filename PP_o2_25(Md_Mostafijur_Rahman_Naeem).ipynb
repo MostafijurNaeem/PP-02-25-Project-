{
  "nbformat": 4,
  "nbformat_minor": 0,
  "metadata": {
    "colab": {
      "provenance": [],
      "authorship_tag": "ABX9TyMfjuWFYzXaDmCvPmXDl8Ml",
      "include_colab_link": true
    },
    "kernelspec": {
      "name": "python3",
      "display_name": "Python 3"
    },
    "language_info": {
      "name": "python"
    }
  },
  "cells": [
    {
      "cell_type": "markdown",
      "metadata": {
        "id": "view-in-github",
        "colab_type": "text"
      },
      "source": [
        "<a href=\"https://colab.research.google.com/github/MostafijurNaeem/Python/blob/main/PP_o2_25(Md_Mostafijur_Rahman_Naeem).ipynb\" target=\"_parent\"><img src=\"https://colab.research.google.com/assets/colab-badge.svg\" alt=\"Open In Colab\"/></a>"
      ]
    },
    {
      "cell_type": "markdown",
      "source": [
        "Question - 1:\n"
      ],
      "metadata": {
        "id": "KB9wARU0GujN"
      }
    },
    {
      "cell_type": "code",
      "execution_count": 29,
      "metadata": {
        "colab": {
          "base_uri": "https://localhost:8080/"
        },
        "id": "obS3h2C4GW_A",
        "outputId": "288aba51-cd3b-4391-84d7-9b220d37054b"
      },
      "outputs": [
        {
          "output_type": "stream",
          "name": "stdout",
          "text": [
            "Please input your score : 85\n",
            "Your grade is Very Good\n"
          ]
        }
      ],
      "source": [
        "Employee_score = input(\"Please input your score : \")\n",
        "Employee_score = int(Employee_score)\n",
        "\n",
        "if Employee_score >= 90:\n",
        "    print(\"Your grade is  e xcellent\")\n",
        "elif Employee_score >= 80:\n",
        "    print(\"Your grade is Very Good\")\n",
        "elif Employee_score >= 70:\n",
        "    print(\"Your grade is Good\")\n",
        "elif Employee_score >= 60:\n",
        "    print(\"Your grade is Satisfactory\")\n",
        "else:\n",
        "    print(\"Your grade Needs Improvement\")\n",
        ""
      ]
    },
    {
      "cell_type": "markdown",
      "source": [
        "Problem - 2\n"
      ],
      "metadata": {
        "id": "tixP2mB0IBDd"
      }
    },
    {
      "cell_type": "code",
      "source": [
        "n = int(input(\"Enter a number: \"))\n",
        "sum_of_odds = 0\n",
        "i = 1\n",
        "\n",
        "while i <= n:\n",
        "  if i % 2 != 0:\n",
        "    sum_of_odds += i\n",
        "  i += 1\n",
        "\n",
        "print(\"The sum of all odd numbers between 1 and\", n, \"is:\\n\", sum_of_odds)"
      ],
      "metadata": {
        "colab": {
          "base_uri": "https://localhost:8080/"
        },
        "id": "z8jDcdkvGf8F",
        "outputId": "c742836b-3137-4952-a94c-d569342b576d"
      },
      "execution_count": 30,
      "outputs": [
        {
          "output_type": "stream",
          "name": "stdout",
          "text": [
            "Enter a number: 100\n",
            "The sum of all odd numbers between 1 and 100 is:\n",
            " 2500\n"
          ]
        }
      ]
    },
    {
      "cell_type": "markdown",
      "source": [
        "Problem -3\n",
        ""
      ],
      "metadata": {
        "id": "TlvdUh9aIuk0"
      }
    },
    {
      "cell_type": "code",
      "source": [
        "#a.\n",
        "# re paackage must be imported when working regular expression in python.\n",
        "\n",
        "#b.\n",
        "import re\n",
        "x = \"banana\"\n",
        "matches = re.finditer(\"a\", x)\n",
        "\n",
        "positions = [match.start() for match in matches]\n",
        "print(f'The positions of \"a\" in x are: {positions}\\n')\n",
        "\n",
        "# c. Replacing \"what\" with \"where\" in the string y\n",
        "y = \"Life is what happens when you're busy making other plans\"\n",
        "new_y = re.sub(r\"\\bwhat\\b\", \"where\", y)\n",
        "print(new_y)\n"
      ],
      "metadata": {
        "colab": {
          "base_uri": "https://localhost:8080/"
        },
        "id": "d02uKwyIIuR1",
        "outputId": "857ddeec-5039-4b30-9175-c87518c9ed07"
      },
      "execution_count": 31,
      "outputs": [
        {
          "output_type": "stream",
          "name": "stdout",
          "text": [
            "The positions of \"a\" in x are: [1, 3, 5]\n",
            "\n",
            "Life is where happens when you're busy making other plans\n"
          ]
        }
      ]
    },
    {
      "cell_type": "markdown",
      "source": [
        "Problem - 4\n"
      ],
      "metadata": {
        "id": "1Ke3AEmjK3Pl"
      }
    },
    {
      "cell_type": "code",
      "source": [
        "#a. Create and open the file in write mode\n",
        "\n",
        "with open(\"notes.txt\", \"w\") as file:\n",
        "    pass\n",
        "\n",
        "#b. Append a line to the file\n",
        "with open(\"notes.txt\", \"a\") as file:\n",
        "    file.write(\"programming is an essential skill in today's world.\\n\")\n",
        "\n",
        "# Read and print the contents of the file\n",
        "with open(\"notes.txt\", \"r\") as file:\n",
        "    contents = file.read()\n",
        "    print(contents)\n",
        "\n",
        "#c. Check if the file exists, and delete it if so\n",
        "import os\n",
        "if os.path.exists(\"notes.txt\"):\n",
        "    os.remove(\"notes.txt\")\n",
        "    print(\"File deleted successfully.\")\n",
        "else:\n",
        "    print(\"File does not exist!\")\n"
      ],
      "metadata": {
        "colab": {
          "base_uri": "https://localhost:8080/"
        },
        "id": "enL2QFiCGf4t",
        "outputId": "f240cdb5-d524-44c3-ddcb-826d1651778c"
      },
      "execution_count": 32,
      "outputs": [
        {
          "output_type": "stream",
          "name": "stdout",
          "text": [
            "programming is an essential skill in today's world.\n",
            "\n",
            "File deleted successfully.\n"
          ]
        }
      ]
    },
    {
      "cell_type": "markdown",
      "source": [
        "problem - 5\n"
      ],
      "metadata": {
        "id": "MUk_ixWHMBOj"
      }
    },
    {
      "cell_type": "code",
      "source": [
        "# a. Create a 2D array (3x3) with random integers between 5 and 15\n",
        "import numpy as np\n",
        "array_2d = np.random.randint(5, 16, size=(3, 3))\n",
        "\n",
        "# b. Display the array and find its transpose\n",
        "print(\"Original Array:\")\n",
        "print(array_2d)\n",
        "\n",
        "print(\"\\nTranspose of the Array:\")\n",
        "transpose_array = array_2d.T\n",
        "print(transpose_array)\n",
        "\n",
        "# c. Calculate the sum of all elements in the array\n",
        "sum_of_elements = np.sum(array_2d)\n",
        "print(\"\\nSum of all elements:\", sum_of_elements)\n",
        "\n",
        "# Find the indices of elements that are greater than 10\n",
        "indices = np.where(array_2d > 10)\n",
        "print(\"\\nIndices of elements greater than 10:\")\n",
        "print(list(zip(indices[0], indices[1])))"
      ],
      "metadata": {
        "colab": {
          "base_uri": "https://localhost:8080/"
        },
        "id": "OMhvHGsHGfxV",
        "outputId": "400b0a7e-07c7-4776-b41d-cbf25a9a55fd"
      },
      "execution_count": 33,
      "outputs": [
        {
          "output_type": "stream",
          "name": "stdout",
          "text": [
            "Original Array:\n",
            "[[13 15 13]\n",
            " [ 7  6  8]\n",
            " [14  8 13]]\n",
            "\n",
            "Transpose of the Array:\n",
            "[[13  7 14]\n",
            " [15  6  8]\n",
            " [13  8 13]]\n",
            "\n",
            "Sum of all elements: 97\n",
            "\n",
            "Indices of elements greater than 10:\n",
            "[(0, 0), (0, 1), (0, 2), (2, 0), (2, 2)]\n"
          ]
        }
      ]
    },
    {
      "cell_type": "code",
      "source": [],
      "metadata": {
        "id": "aApYfgAYGfuO"
      },
      "execution_count": null,
      "outputs": []
    }
  ]
}