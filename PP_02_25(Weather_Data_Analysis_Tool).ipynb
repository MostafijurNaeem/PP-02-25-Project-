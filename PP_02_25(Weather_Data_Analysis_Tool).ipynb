{
  "nbformat": 4,
  "nbformat_minor": 0,
  "metadata": {
    "colab": {
      "provenance": [],
      "authorship_tag": "ABX9TyPjyTT3x79N5LHXpQx9Fw8q",
      "include_colab_link": true
    },
    "kernelspec": {
      "name": "python3",
      "display_name": "Python 3"
    },
    "language_info": {
      "name": "python"
    }
  },
  "cells": [
    {
      "cell_type": "markdown",
      "metadata": {
        "id": "view-in-github",
        "colab_type": "text"
      },
      "source": [
        "<a href=\"https://colab.research.google.com/github/MostafijurNaeem/PP-02-25-Project-/blob/main/PP_02_25(Weather_Data_Analysis_Tool).ipynb\" target=\"_parent\"><img src=\"https://colab.research.google.com/assets/colab-badge.svg\" alt=\"Open In Colab\"/></a>"
      ]
    },
    {
      "cell_type": "markdown",
      "source": [
        "Project Title: \"Weather Data Analysis Tool\"\n",
        "\n",
        "---\n",
        "\n",
        " Objective:\n",
        "\n",
        " Develop a Python application that analyzes and visualizes weather data, providing insights such\n",
        " as temperature trends, rainfall patterns, and extreme weather events using file handling and\n",
        " Python core concepts.\n",
        "\n",
        "---\n",
        "\n"
      ],
      "metadata": {
        "id": "0490eabtCNJw"
      }
    },
    {
      "cell_type": "markdown",
      "source": [
        "PP-02-25(MD. MOSTAFIJU RAHMAN NAEEM)\n",
        "\n",
        " Registration No: 2020136025\n",
        "\n",
        " Department of Oceanography\n",
        "\n",
        " Shahjalal University of Science and Technology, Sylhet."
      ],
      "metadata": {
        "id": "WrU3dqyrDG-m"
      }
    },
    {
      "cell_type": "markdown",
      "source": [
        "**Import the Libaries**"
      ],
      "metadata": {
        "id": "R5i1gyj1WQKU"
      }
    },
    {
      "cell_type": "code",
      "source": [
        "import csv\n",
        "import random\n",
        "from datetime import datetime, timedelta\n",
        "import os\n",
        "from google.colab import files\n",
        "import matplotlib.pyplot as plt\n",
        "import pandas as pd"
      ],
      "metadata": {
        "id": "kKgOTqz7LCpX"
      },
      "execution_count": 122,
      "outputs": []
    },
    {
      "cell_type": "markdown",
      "source": [
        "Step 1: Data Initialization\n",
        "\n",
        "---\n",
        "\n",
        "Generating Random weather data and saving in a csv file.\n"
      ],
      "metadata": {
        "id": "4Ur1vz-xWy7Y"
      }
    },
    {
      "cell_type": "code",
      "source": [
        "# Function to generate random weather data and save it to a CSV file\n",
        "def generate_weather_data(file_name):\n",
        "    conditions = [\"Sunny\", \"Rainy\", \"Cloudy\", \"Stormy\", \"Windy\"]\n",
        "    start_date = datetime(2023, 1, 1)\n",
        "    end_date = datetime(2023, 12, 31)\n",
        "    delta = end_date - start_date  # Calculate the number of days\n",
        "\n",
        "    with open(file_name, mode='w', newline='') as file:\n",
        "        writer = csv.writer(file)\n",
        "        writer.writerow([\"Date\", \"Temperature (°C)\", \"Rainfall (mm)\", \"Humidity (%)\", \"Wind Speed (km/h)\", \"Condition\"])\n",
        "\n",
        "        for i in range(delta.days + 1):  # Iterate through each day of the year\n",
        "            date = start_date + timedelta(days=i)\n",
        "            temperature = round(random.uniform(-10, 40), 1)\n",
        "            rainfall = round(random.uniform(0, 200), 1)\n",
        "            humidity = random.randint(10, 100)\n",
        "            wind_speed = random.randint(0, 50)\n",
        "            condition = random.choice(conditions)\n",
        "\n",
        "            writer.writerow([date.strftime('%Y-%m-%d'), temperature, rainfall, humidity, wind_speed, condition])\n",
        "\n",
        "# Call the function to generate data for the entire year of 2023\n",
        "generate_weather_data(\"weather_data_2023.csv\")"
      ],
      "metadata": {
        "id": "geAS4xgIWypC"
      },
      "execution_count": 104,
      "outputs": []
    },
    {
      "cell_type": "markdown",
      "source": [
        "Step 2: Importing and Validating Data\n",
        "**bold text**"
      ],
      "metadata": {
        "id": "cyaKmUJAKv_x"
      }
    },
    {
      "cell_type": "code",
      "source": [
        "# Function to load and validate weather data\n",
        "def load_weather_data_2023(file_name):\n",
        "    weather_data_2023 = []\n",
        "    with open(file_name, 'r') as file:\n",
        "        csv_reader = csv.DictReader(file)\n",
        "        for row in csv_reader:\n",
        "            try:\n",
        "                date = datetime.strptime(row['Date'], '%Y-%m-%d')\n",
        "                temperature = float(row['Temperature (°C)'])\n",
        "                rainfall = float(row['Rainfall (mm)'])\n",
        "                humidity = float(row['Humidity (%)'])\n",
        "                wind_speed = float(row['Wind Speed (km/h)'])\n",
        "                condition = row['Condition']\n",
        "                weather_data_2023.append({\n",
        "                    'Date': date,\n",
        "                    'Temperature': temperature,\n",
        "                    'Rainfall': rainfall,\n",
        "                    'Humidity': humidity,\n",
        "                    'Wind Speed': wind_speed,\n",
        "                    'Condition': condition\n",
        "                })\n",
        "            except ValueError:\n",
        "                print(f\"Invalid data in row: {row}\")\n",
        "    return weather_data_2023"
      ],
      "metadata": {
        "id": "9R1j4Ay5JEcB"
      },
      "execution_count": 105,
      "outputs": []
    },
    {
      "cell_type": "markdown",
      "source": [
        "**Step 3: Analyzing Weather Trends**"
      ],
      "metadata": {
        "id": "_bIHiFRRK94w"
      }
    },
    {
      "cell_type": "code",
      "source": [
        "# Function to calculate statistics for weather data\n",
        "def calculate_statistics(weather_data_2023):\n",
        "    total_temp = sum([data['Temperature'] for data in weather_data_2023])\n",
        "    total_rainfall = sum([data['Rainfall'] for data in weather_data_2023])\n",
        "    total_humidity = sum([data['Humidity'] for data in weather_data_2023])\n",
        "\n",
        "    avg_temp = total_temp / len(weather_data_2023)\n",
        "    avg_rainfall = total_rainfall / len(weather_data_2023)\n",
        "    avg_humidity = total_humidity / len(weather_data_2023)\n",
        "\n",
        "    return avg_temp, avg_rainfall, avg_humidity"
      ],
      "metadata": {
        "id": "cVxx1gotK_EQ"
      },
      "execution_count": 118,
      "outputs": []
    },
    {
      "cell_type": "markdown",
      "source": [
        "**Step 4: Weather Reports**"
      ],
      "metadata": {
        "id": "nxTwjwgSK_XI"
      }
    },
    {
      "cell_type": "code",
      "source": [
        "# Function to generate a weather report\n",
        "def generate_report(weather_data_2023, start_date, end_date):\n",
        "    filtered_data = [data for data in weather_data_2023 if start_date <= data['Date'] <= end_date]\n",
        "    avg_temp, avg_rainfall, avg_humidity = calculate_statistics(filtered_data)\n",
        "\n",
        "    print(f\"\\nWeather Report from {start_date} to {end_date}\")\n",
        "    print(f\"Average Temperature: {avg_temp}°C\")\n",
        "    print(f\"Average Rainfall: {avg_rainfall} mm\")\n",
        "    print(f\"Average Humidity: {avg_humidity}%\")\n"
      ],
      "metadata": {
        "id": "cO14cpOALG2i"
      },
      "execution_count": 107,
      "outputs": []
    },
    {
      "cell_type": "markdown",
      "source": [
        "**Step 5: Data Visualization**"
      ],
      "metadata": {
        "id": "-l-kSneSLHGB"
      }
    },
    {
      "cell_type": "code",
      "source": [
        "#Function to plot temperature trends using Matplotlib (Line Chart)\n",
        "def plot_temperature_trends(weather_data_2023):\n",
        "    dates = [data['Date'] for data in weather_data_2023]\n",
        "    temperatures = [data['Temperature'] for data in weather_data_2023]\n",
        "\n",
        "    plt.figure(figsize=(10,6))\n",
        "    plt.plot(dates, temperatures, label=\"Temperature (°C)\", color='blue')\n",
        "    plt.xlabel('Date')\n",
        "    plt.ylabel('Temperature (°C)')\n",
        "    plt.title('Temperature Over Time')\n",
        "    plt.xticks(rotation=45)\n",
        "    plt.grid(True)\n",
        "    plt.tight_layout()\n",
        "    plt.legend()\n",
        "    plt.show()\n",
        "\n",
        "# Function to plot daily rainfall trends in a specific month (Bar Chart)\n",
        "def plot_rainfall_trends(weather_data_2023, month):\n",
        "    # Filter data for the selected month\n",
        "    monthly_data = [data for data in weather_data_2023 if data['Date'].month == month]\n",
        "    dates = [data['Date'].strftime('%Y-%m-%d') for data in monthly_data]\n",
        "    rainfall = [data['Rainfall'] for data in monthly_data]\n",
        "\n",
        "    plt.figure(figsize=(10,6))\n",
        "    plt.bar(dates, rainfall, color='green')\n",
        "    plt.xlabel('Date')\n",
        "    plt.ylabel('Rainfall (mm)')\n",
        "    plt.title(f'Daily Rainfall in Month {month}')\n",
        "    plt.xticks(rotation=45)\n",
        "    plt.tight_layout()\n",
        "    plt.show()\n",
        "\n",
        "# Function to generate summary table showing weather stats by month\n",
        "def summary_by_month(weather_data_2023):\n",
        "    # Convert weather data to a pandas DataFrame for easier processing\n",
        "    df = pd.DataFrame(weather_data_2023)\n",
        "    df['Month'] = df['Date'].dt.to_period('M')  # Extract month and year as period\n",
        "\n",
        "    # Group by Month and calculate statistics\n",
        "    summary = df.groupby('Month').agg(\n",
        "        avg_temp=('Temperature', 'mean'),\n",
        "        avg_rainfall=('Rainfall', 'mean'),\n",
        "        avg_humidity=('Humidity', 'mean')\n",
        "    ).reset_index()\n",
        "\n",
        "    print(\"\\nWeather Stats by Month (Summary Table):\")\n",
        "    print(summary)"
      ],
      "metadata": {
        "id": "M9WO4DNKLJ4_"
      },
      "execution_count": 108,
      "outputs": []
    },
    {
      "cell_type": "markdown",
      "source": [
        "**Step 6: Advanced Features**"
      ],
      "metadata": {
        "id": "0OdiglzOLKJf"
      }
    },
    {
      "cell_type": "code",
      "source": [
        "# Function to export weather data to a CSV file\n",
        "def export_to_csv(weather_data_2023, file_name):\n",
        "    with open(file_name, 'w', newline='') as file:\n",
        "        writer = csv.DictWriter(file, fieldnames=weather_data_2023[0].keys())\n",
        "        writer.writeheader()\n",
        "        for data in weather_data_2023:\n",
        "            writer.writerow(data)\n",
        "\n",
        "    # Provide an option to download the file\n",
        "    files.download(file_name)\n"
      ],
      "metadata": {
        "id": "1ufIlptDLNMJ"
      },
      "execution_count": 109,
      "outputs": []
    },
    {
      "cell_type": "markdown",
      "source": [
        "**Step 7: User Interface**"
      ],
      "metadata": {
        "id": "pUwG0bfGLNb_"
      }
    },
    {
      "cell_type": "code",
      "source": [
        "# Main menu function for interactive user interface\n",
        "def menu():\n",
        "    print(\"\\nWeather Data Analysis Tool\")\n",
        "    print(\"1. Import weather data\")\n",
        "    print(\"2. View statistics for a date range\")\n",
        "    print(\"3. Generate weather report\")\n",
        "    print(\"4. Visualize temperature trends\")\n",
        "    print(\"5. Visualize rainfall trends\")\n",
        "    print(\"6. Summary weather stats by month\")\n",
        "    print(\"7. Export report\")\n",
        "    print(\"8. Exit\")\n",
        "\n",
        "    choice = input(\"Choose an option: \")\n",
        "    return choice"
      ],
      "metadata": {
        "id": "y8INkzqqLRY4"
      },
      "execution_count": 110,
      "outputs": []
    },
    {
      "cell_type": "markdown",
      "source": [
        "**Step 8: Main Function**"
      ],
      "metadata": {
        "id": "Cie7my2EaEoV"
      }
    },
    {
      "cell_type": "code",
      "source": [
        "# Main function to run the tool\n",
        "def main():\n",
        "    file_name = 'weather_data_2023.csv'\n",
        "\n",
        "    # Check if the file already exists in the Colab environment\n",
        "    if os.path.exists(file_name):\n",
        "        print(f\"File '{file_name}' already exists. Skipping data generation.\")\n",
        "    else:\n",
        "        generate_weather_data(file_name)\n",
        "\n",
        "    weather_data_2023 = load_weather_data_2023(file_name)\n",
        "\n",
        "    while True:\n",
        "        choice = menu()\n",
        "\n",
        "        if choice == '1':\n",
        "            print(\"Importing new weather data is not yet implemented.\")\n",
        "        elif choice == '2':\n",
        "            start_date = datetime.strptime(input(\"Enter start date (YYYY-MM-DD): \"), '%Y-%m-%d')\n",
        "            end_date = datetime.strptime(input(\"Enter end date (YYYY-MM-DD): \"), '%Y-%m-%d')\n",
        "            generate_report(weather_data_2023, start_date, end_date)\n",
        "        elif choice == '3':\n",
        "            start_date = datetime.strptime(input(\"Enter start date (YYYY-MM-DD): \"), '%Y-%m-%d')\n",
        "            end_date = datetime.strptime(input(\"Enter end date (YYYY-MM-DD): \"), '%Y-%m-%d')\n",
        "            generate_report(weather_data_2023, start_date, end_date)\n",
        "        elif choice == '4':\n",
        "            plot_temperature_trends(weather_data_2023)\n",
        "        elif choice == '5':\n",
        "            month = int(input(\"Enter the month (1-12) to visualize rainfall: \"))\n",
        "            plot_rainfall_trends(weather_data_2023, month)\n",
        "        elif choice == '6':\n",
        "            summary_by_month(weather_data_2023)\n",
        "        elif choice == '7':\n",
        "            export_to_csv(weather_data_2023, 'exported_weather_data.csv')\n",
        "        elif choice == '8':\n",
        "            print(\"Exiting the program.\")\n",
        "            break\n",
        "        else:\n",
        "            print(\"Invalid choice. Please try again.\")\n",
        "\n",
        "if __name__ == \"__main__\":\n",
        "    main()\n"
      ],
      "metadata": {
        "colab": {
          "base_uri": "https://localhost:8080/",
          "height": 1000
        },
        "id": "S0B3Bsy-TEM1",
        "outputId": "ca3a6b54-0c69-4367-fe8c-29084b5a324f"
      },
      "execution_count": 121,
      "outputs": [
        {
          "name": "stdout",
          "output_type": "stream",
          "text": [
            "File 'weather_data_2023.csv' already exists. Skipping data generation.\n",
            "\n",
            "Weather Data Analysis Tool\n",
            "1. Import weather data\n",
            "2. View statistics for a date range\n",
            "3. Generate weather report\n",
            "4. Visualize temperature trends\n",
            "5. Visualize rainfall trends\n",
            "6. Summary weather stats by month\n",
            "7. Export report\n",
            "8. Exit\n",
            "Choose an option: 5\n",
            "Enter the month (1-12) to visualize rainfall: 5\n"
          ]
        },
        {
          "output_type": "display_data",
          "data": {
            "text/plain": [
              "<Figure size 1000x600 with 1 Axes>"
            ],
            "image/png": "[encoded data removed]"
          },
          "metadata": {}
        },
        {
          "name": "stdout",
          "output_type": "stream",
          "text": [
            "\n",
            "Weather Data Analysis Tool\n",
            "1. Import weather data\n",
            "2. View statistics for a date range\n",
            "3. Generate weather report\n",
            "4. Visualize temperature trends\n",
            "5. Visualize rainfall trends\n",
            "6. Summary weather stats by month\n",
            "7. Export report\n",
            "8. Exit\n",
            "Choose an option: 6\n",
            "\n",
            "Weather Stats by Month (Summary Table):\n",
            "      Month   avg_temp  avg_rainfall  avg_humidity\n",
            "0   2023-01  13.180645    105.680645     49.870968\n",
            "1   2023-02  14.203571    110.900000     51.571429\n",
            "2   2023-03  10.022581    114.493548     49.709677\n",
            "3   2023-04  13.563333     97.463333     54.900000\n",
            "4   2023-05  11.880645     96.864516     49.322581\n",
            "5   2023-06  12.403333     91.046667     47.266667\n",
            "6   2023-07  14.883871     88.683871     56.838710\n",
            "7   2023-08  13.029032    106.425806     57.935484\n",
            "8   2023-09  17.553333    107.343333     61.666667\n",
            "9   2023-10  19.161290    113.609677     59.903226\n",
            "10  2023-11  10.046667     98.256667     52.833333\n",
            "11  2023-12  13.793548    111.006452     57.806452\n",
            "\n",
            "Weather Data Analysis Tool\n",
            "1. Import weather data\n",
            "2. View statistics for a date range\n",
            "3. Generate weather report\n",
            "4. Visualize temperature trends\n",
            "5. Visualize rainfall trends\n",
            "6. Summary weather stats by month\n",
            "7. Export report\n",
            "8. Exit\n",
            "Choose an option: 7\n"
          ]
        },
        {
          "output_type": "display_data",
          "data": {
            "text/plain": [
              "<IPython.core.display.Javascript object>"
            ],
            "application/javascript": [
              "\n",
              "    async function download(id, filename, size) {\n",
              "      if (!google.colab.kernel.accessAllowed) {\n",
              "        return;\n",
              "      }\n",
              "      const div = document.createElement('div');\n",
              "      const label = document.createElement('label');\n",
              "      label.textContent = `Downloading \"${filename}\": `;\n",
              "      div.appendChild(label);\n",
              "      const progress = document.createElement('progress');\n",
              "      progress.max = size;\n",
              "      div.appendChild(progress);\n",
              "      document.body.appendChild(div);\n",
              "\n",
              "      const buffers = [];\n",
              "      let downloaded = 0;\n",
              "\n",
              "      const channel = await google.colab.kernel.comms.open(id);\n",
              "      // Send a message to notify the kernel that we're ready.\n",
              "      channel.send({})\n",
              "\n",
              "      for await (const message of channel.messages) {\n",
              "        // Send a message to notify the kernel that we're ready.\n",
              "        channel.send({})\n",
              "        if (message.buffers) {\n",
              "          for (const buffer of message.buffers) {\n",
              "            buffers.push(buffer);\n",
              "            downloaded += buffer.byteLength;\n",
              "            progress.value = downloaded;\n",
              "          }\n",
              "        }\n",
              "      }\n",
              "      const blob = new Blob(buffers, {type: 'application/binary'});\n",
              "      const a = document.createElement('a');\n",
              "      a.href = window.URL.createObjectURL(blob);\n",
              "      a.download = filename;\n",
              "      div.appendChild(a);\n",
              "      a.click();\n",
              "      div.remove();\n",
              "    }\n",
              "  "
            ]
          },
          "metadata": {}
        },
        {
          "output_type": "display_data",
          "data": {
            "text/plain": [
              "<IPython.core.display.Javascript object>"
            ],
            "application/javascript": [
              "download(\"download_a620b6c1-e33a-471e-88b0-a82ce76ba6a1\", \"exported_weather_data.csv\", 17378)"
            ]
          },
          "metadata": {}
        },
        {
          "output_type": "stream",
          "name": "stdout",
          "text": [
            "\n",
            "Weather Data Analysis Tool\n",
            "1. Import weather data\n",
            "2. View statistics for a date range\n",
            "3. Generate weather report\n",
            "4. Visualize temperature trends\n",
            "5. Visualize rainfall trends\n",
            "6. Summary weather stats by month\n",
            "7. Export report\n",
            "8. Exit\n",
            "Choose an option: 8\n",
            "Exiting the program.\n"
          ]
        }
      ]
    }
  ]
}