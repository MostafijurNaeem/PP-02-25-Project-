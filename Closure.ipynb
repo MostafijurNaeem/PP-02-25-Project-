{
  "nbformat": 4,
  "nbformat_minor": 0,
  "metadata": {
    "colab": {
      "provenance": [],
      "authorship_tag": "ABX9TyOY79JimI4Lep7ayycn03Wm",
      "include_colab_link": true
    },
    "kernelspec": {
      "name": "python3",
      "display_name": "Python 3"
    },
    "language_info": {
      "name": "python"
    }
  },
  "cells": [
    {
      "cell_type": "markdown",
      "metadata": {
        "id": "view-in-github",
        "colab_type": "text"
      },
      "source": [
        "<a href=\"https://colab.research.google.com/github/MostafijurNaeem/Python/blob/main/Closure.ipynb\" target=\"_parent\"><img src=\"https://colab.research.google.com/assets/colab-badge.svg\" alt=\"Open In Colab\"/></a>"
      ]
    },
    {
      "cell_type": "code",
      "source": [
        "def outer_function(x):\n",
        "    def inner_function(y):\n",
        "        return x + y\n",
        "    return inner_function\n",
        "\n",
        "closure = outer_function(10)\n",
        "print(closure(5))  # 15"
      ],
      "metadata": {
        "colab": {
          "base_uri": "https://localhost:8080/"
        },
        "id": "iGKdoveKmFL-",
        "outputId": "d02f9bb8-0f43-493b-a7ea-e713ec7f6b7f"
      },
      "execution_count": 6,
      "outputs": [
        {
          "output_type": "stream",
          "name": "stdout",
          "text": [
            "15\n"
          ]
        }
      ]
    },
    {
      "cell_type": "code",
      "execution_count": 4,
      "metadata": {
        "colab": {
          "base_uri": "https://localhost:8080/"
        },
        "id": "l7vBOLxvkuUf",
        "outputId": "8a2c33a8-2927-4697-b265-4e35d4d91251"
      },
      "outputs": [
        {
          "output_type": "stream",
          "name": "stdout",
          "text": [
            "100\n",
            "1000\n"
          ]
        }
      ],
      "source": [
        "def power_outer(x):\n",
        "  def power_inner(y):\n",
        "    return y**x\n",
        "  return power_inner\n",
        "\n",
        "square = power_outer(2)\n",
        "print(square(10))\n",
        "cube = power_outer(3)\n",
        "print(cube(10))"
      ]
    },
    {
      "cell_type": "code",
      "source": [
        "def counter():\n",
        "    c = 0\n",
        "    def make_count():\n",
        "      nonlocal c\n",
        "      c += 1\n",
        "      return c\n",
        "    return make_count\n",
        "\n",
        "count = counter()\n",
        "print(count())  # 1\n",
        "print(count())  # 2\n",
        "\n",
        "count2 = counter()\n",
        "print(count2())\n",
        "print(count())"
      ],
      "metadata": {
        "colab": {
          "base_uri": "https://localhost:8080/"
        },
        "id": "qH7IFIbclCRJ",
        "outputId": "3cc532b2-ea22-4915-e545-993acdb8a899"
      },
      "execution_count": 5,
      "outputs": [
        {
          "output_type": "stream",
          "name": "stdout",
          "text": [
            "1\n",
            "2\n",
            "1\n",
            "3\n"
          ]
        }
      ]
    }
  ]
}